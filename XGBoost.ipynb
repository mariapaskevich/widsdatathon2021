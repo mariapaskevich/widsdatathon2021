{
 "cells": [
  {
   "cell_type": "code",
   "execution_count": 94,
   "metadata": {},
   "outputs": [],
   "source": [
    "import pandas as pd\n",
    "from sklearn.model_selection import train_test_split\n",
    "from sklearn.preprocessing import LabelEncoder\n",
    "from sklearn.ensemble import GradientBoostingClassifier\n",
    "from sklearn import metrics\n",
    "import xgboost as xgb\n",
    "\n",
    "import wandb\n",
    "from wandb.lightgbm import wandb_callback\n",
    "\n",
    "pd.set_option(\"display.max_columns\", 181)\n",
    "pd.set_option(\"display.min_rows\", 200)"
   ]
  },
  {
   "cell_type": "code",
   "execution_count": 22,
   "metadata": {},
   "outputs": [],
   "source": [
    "#!pip install xgboost"
   ]
  },
  {
   "cell_type": "code",
   "execution_count": 2,
   "metadata": {},
   "outputs": [],
   "source": [
    "data_dictionary = pd.read_csv(\"DataDictionaryWiDS2021.csv\")\n",
    "unlabeled = pd.read_csv(\"UnlabeledWiDS2021.csv\")\n",
    "training = pd.read_csv(\"TrainingWiDS2021.csv\")"
   ]
  },
  {
   "cell_type": "code",
   "execution_count": 3,
   "metadata": {},
   "outputs": [],
   "source": [
    "column_datatype_mapping = dict(zip(data_dictionary['Variable Name'], data_dictionary['Data Type']))"
   ]
  },
  {
   "cell_type": "code",
   "execution_count": 4,
   "metadata": {},
   "outputs": [],
   "source": [
    "del training['Unnamed: 0']\n",
    "del unlabeled['Unnamed: 0']"
   ]
  },
  {
   "cell_type": "code",
   "execution_count": 5,
   "metadata": {},
   "outputs": [],
   "source": [
    "all_data = training.drop(['encounter_id', \n",
    "                          'hospital_id', \n",
    "                          'diabetes_mellitus'], axis=1).append(unlabeled)"
   ]
  },
  {
   "cell_type": "code",
   "execution_count": 6,
   "metadata": {},
   "outputs": [],
   "source": [
    "cat_cols = []\n",
    "cont_cols = []\n",
    "for col in all_data.columns:\n",
    "    if all_data.dtypes[col] == \"object\":\n",
    "        cat_cols.append(col)\n",
    "        all_data[col] = all_data[col].fillna(\"NA\")\n",
    "        all_data[col] = LabelEncoder().fit_transform(all_data[col])\n",
    "        all_data[col]= all_data[col].astype('category')\n",
    "    elif column_datatype_mapping[col] == \"binary\":\n",
    "        all_data[col] = all_data[col].fillna(-1)\n",
    "    elif column_datatype_mapping[col] == \"numeric\":\n",
    "        all_data[col] = all_data[col].fillna(0)\n",
    "        cont_cols.append(col)\n",
    "    else:\n",
    "        all_data[col] = all_data[col].fillna(all_data[col].median())\n",
    "        cont_cols.append(col)"
   ]
  },
  {
   "cell_type": "code",
   "execution_count": 90,
   "metadata": {},
   "outputs": [],
   "source": [
    "df_train = all_data[:len(training)]\n",
    "df_pred = all_data[len(training):].reset_index(drop=True)\n",
    "Y = training['diabetes_mellitus']"
   ]
  },
  {
   "cell_type": "code",
   "execution_count": 91,
   "metadata": {},
   "outputs": [],
   "source": [
    "X_train, X_val, y_train, y_val = train_test_split(df_train, Y, test_size=0.20, random_state=42,shuffle=True )"
   ]
  },
  {
   "cell_type": "code",
   "execution_count": 96,
   "metadata": {},
   "outputs": [],
   "source": [
    "xg_train = xgb.DMatrix(X_train.values, label=y_train)\n",
    "xg_test = xgb.DMatrix(X_val.values, label=y_val)"
   ]
  },
  {
   "cell_type": "code",
   "execution_count": 102,
   "metadata": {},
   "outputs": [
    {
     "data": {
      "text/html": [
       "Finishing last run (ID:lmb5zyf2) before initializing another..."
      ],
      "text/plain": [
       "<IPython.core.display.HTML object>"
      ]
     },
     "metadata": {},
     "output_type": "display_data"
    },
    {
     "data": {
      "text/html": [
       "<br/>Waiting for W&B process to finish, PID 2016<br/>Program ended successfully."
      ],
      "text/plain": [
       "<IPython.core.display.HTML object>"
      ]
     },
     "metadata": {},
     "output_type": "display_data"
    },
    {
     "data": {
      "application/vnd.jupyter.widget-view+json": {
       "model_id": "",
       "version_major": 2,
       "version_minor": 0
      },
      "text/plain": [
       "VBox(children=(Label(value=' 0.00MB of 0.00MB uploaded (0.00MB deduped)\\r'), FloatProgress(value=1.0, max=1.0)…"
      ]
     },
     "metadata": {},
     "output_type": "display_data"
    },
    {
     "data": {
      "text/html": [
       "Find user logs for this run at: <code>/home/jupyter/wids/wandb/run-20210117_113620-lmb5zyf2/logs/debug.log</code>"
      ],
      "text/plain": [
       "<IPython.core.display.HTML object>"
      ]
     },
     "metadata": {},
     "output_type": "display_data"
    },
    {
     "data": {
      "text/html": [
       "Find internal logs for this run at: <code>/home/jupyter/wids/wandb/run-20210117_113620-lmb5zyf2/logs/debug-internal.log</code>"
      ],
      "text/plain": [
       "<IPython.core.display.HTML object>"
      ]
     },
     "metadata": {},
     "output_type": "display_data"
    },
    {
     "data": {
      "text/html": [
       "<h3>Run summary:</h3><br/><style>\n",
       "    table.wandb td:nth-child(1) { padding: 0 10px; text-align: right }\n",
       "    </style><table class=\"wandb\">\n",
       "<tr><td>train-auc</td><td>0.90055</td></tr><tr><td>test-auc</td><td>0.8647</td></tr><tr><td>_step</td><td>199</td></tr><tr><td>_runtime</td><td>69</td></tr><tr><td>_timestamp</td><td>1610883449</td></tr></table>"
      ],
      "text/plain": [
       "<IPython.core.display.HTML object>"
      ]
     },
     "metadata": {},
     "output_type": "display_data"
    },
    {
     "data": {
      "text/html": [
       "<h3>Run history:</h3><br/><style>\n",
       "    table.wandb td:nth-child(1) { padding: 0 10px; text-align: right }\n",
       "    </style><table class=\"wandb\">\n",
       "<tr><td>train-auc</td><td>▁▂▃▃▃▃▄▄▅▅▅▅▅▆▆▆▆▆▆▆▆▇▇▇▇▇▇▇▇▇▇▇▇███████</td></tr><tr><td>test-auc</td><td>▁▂▃▄▄▄▅▅▆▆▆▆▆▇▇▇▇▇▇▇▇▇▇▇▇███████████████</td></tr><tr><td>_step</td><td>▁▁▁▁▂▂▂▂▂▃▃▃▃▃▃▄▄▄▄▄▅▅▅▅▅▅▆▆▆▆▆▇▇▇▇▇▇███</td></tr><tr><td>_runtime</td><td>▁▁▁▂▂▂▂▂▂▃▃▃▃▃▄▄▄▄▄▄▅▅▅▅▅▆▆▆▆▆▆▇▇▇▇▇▇███</td></tr><tr><td>_timestamp</td><td>▁▁▁▂▂▂▂▂▂▃▃▃▃▃▄▄▄▄▄▄▅▅▅▅▅▆▆▆▆▆▆▇▇▇▇▇▇███</td></tr></table><br/>"
      ],
      "text/plain": [
       "<IPython.core.display.HTML object>"
      ]
     },
     "metadata": {},
     "output_type": "display_data"
    },
    {
     "data": {
      "text/html": [
       "Synced 5 W&B file(s), 0 media file(s), 0 artifact file(s) and 0 other file(s)"
      ],
      "text/plain": [
       "<IPython.core.display.HTML object>"
      ]
     },
     "metadata": {},
     "output_type": "display_data"
    },
    {
     "data": {
      "text/html": [
       "\n",
       "                    <br/>Synced <strong style=\"color:#cdcd00\">treasured-bush-29</strong>: <a href=\"https://wandb.ai/mariapaskevich/wids_2021/runs/lmb5zyf2\" target=\"_blank\">https://wandb.ai/mariapaskevich/wids_2021/runs/lmb5zyf2</a><br/>\n",
       "                "
      ],
      "text/plain": [
       "<IPython.core.display.HTML object>"
      ]
     },
     "metadata": {},
     "output_type": "display_data"
    },
    {
     "data": {
      "text/html": [
       "...Successfully finished last run (ID:lmb5zyf2). Initializing new run:<br/><br/>"
      ],
      "text/plain": [
       "<IPython.core.display.HTML object>"
      ]
     },
     "metadata": {},
     "output_type": "display_data"
    },
    {
     "name": "stderr",
     "output_type": "stream",
     "text": [
      "\u001b[34m\u001b[1mwandb\u001b[0m: wandb version 0.10.14 is available!  To upgrade, please run:\n",
      "\u001b[34m\u001b[1mwandb\u001b[0m:  $ pip install wandb --upgrade\n"
     ]
    },
    {
     "data": {
      "text/html": [
       "\n",
       "                Tracking run with wandb version 0.10.13<br/>\n",
       "                Syncing run <strong style=\"color:#cdcd00\">dazzling-durian-30</strong> to <a href=\"https://wandb.ai\" target=\"_blank\">Weights & Biases</a> <a href=\"https://docs.wandb.com/integrations/jupyter.html\" target=\"_blank\">(Documentation)</a>.<br/>\n",
       "                Project page: <a href=\"https://wandb.ai/mariapaskevich/wids_2021\" target=\"_blank\">https://wandb.ai/mariapaskevich/wids_2021</a><br/>\n",
       "                Run page: <a href=\"https://wandb.ai/mariapaskevich/wids_2021/runs/x70hp6qc\" target=\"_blank\">https://wandb.ai/mariapaskevich/wids_2021/runs/x70hp6qc</a><br/>\n",
       "                Run data is saved locally in <code>/home/jupyter/wids/wandb/run-20210117_114144-x70hp6qc</code><br/><br/>\n",
       "            "
      ],
      "text/plain": [
       "<IPython.core.display.HTML object>"
      ]
     },
     "metadata": {},
     "output_type": "display_data"
    },
    {
     "name": "stderr",
     "output_type": "stream",
     "text": [
      "/opt/conda/lib/python3.7/site-packages/xgboost/training.py:19: UserWarning: Old style callback is deprecated.  See: https://xgboost.readthedocs.io/en/latest/python/callbacks.html\n",
      "  warnings.warn(f'Old style callback is deprecated.  See: {link}', UserWarning)\n"
     ]
    },
    {
     "name": "stdout",
     "output_type": "stream",
     "text": [
      "[11:41:50] WARNING: ../src/learner.cc:541: \n",
      "Parameters: { n_estimators, num_leaves } might not be used.\n",
      "\n",
      "  This may not be accurate due to some parameters are only used in language bindings but\n",
      "  passed down to XGBoost core.  Or some parameters are not used but slip through this\n",
      "  verification. Please open an issue if you find above cases.\n",
      "\n",
      "\n",
      "[0]\ttrain-auc:0.80939\ttest-auc:0.80126\n",
      "[1]\ttrain-auc:0.81496\ttest-auc:0.80497\n",
      "[2]\ttrain-auc:0.82038\ttest-auc:0.81089\n",
      "[3]\ttrain-auc:0.82165\ttest-auc:0.81130\n",
      "[4]\ttrain-auc:0.82408\ttest-auc:0.81419\n",
      "[5]\ttrain-auc:0.82548\ttest-auc:0.81621\n",
      "[6]\ttrain-auc:0.82847\ttest-auc:0.81955\n",
      "[7]\ttrain-auc:0.82919\ttest-auc:0.82006\n",
      "[8]\ttrain-auc:0.83007\ttest-auc:0.82085\n",
      "[9]\ttrain-auc:0.83148\ttest-auc:0.82239\n",
      "[10]\ttrain-auc:0.83224\ttest-auc:0.82310\n",
      "[11]\ttrain-auc:0.83354\ttest-auc:0.82426\n",
      "[12]\ttrain-auc:0.83423\ttest-auc:0.82492\n",
      "[13]\ttrain-auc:0.83476\ttest-auc:0.82540\n",
      "[14]\ttrain-auc:0.83565\ttest-auc:0.82608\n",
      "[15]\ttrain-auc:0.83645\ttest-auc:0.82638\n",
      "[16]\ttrain-auc:0.83729\ttest-auc:0.82726\n",
      "[17]\ttrain-auc:0.83863\ttest-auc:0.82840\n",
      "[18]\ttrain-auc:0.83903\ttest-auc:0.82874\n",
      "[19]\ttrain-auc:0.84005\ttest-auc:0.82948\n",
      "[20]\ttrain-auc:0.84088\ttest-auc:0.83017\n",
      "[21]\ttrain-auc:0.84146\ttest-auc:0.83053\n",
      "[22]\ttrain-auc:0.84251\ttest-auc:0.83134\n",
      "[23]\ttrain-auc:0.84321\ttest-auc:0.83182\n",
      "[24]\ttrain-auc:0.84404\ttest-auc:0.83251\n",
      "[25]\ttrain-auc:0.84480\ttest-auc:0.83306\n",
      "[26]\ttrain-auc:0.84577\ttest-auc:0.83395\n",
      "[27]\ttrain-auc:0.84672\ttest-auc:0.83484\n",
      "[28]\ttrain-auc:0.84747\ttest-auc:0.83539\n",
      "[29]\ttrain-auc:0.84826\ttest-auc:0.83595\n",
      "[30]\ttrain-auc:0.84925\ttest-auc:0.83679\n",
      "[31]\ttrain-auc:0.84995\ttest-auc:0.83749\n",
      "[32]\ttrain-auc:0.85069\ttest-auc:0.83811\n",
      "[33]\ttrain-auc:0.85144\ttest-auc:0.83875\n",
      "[34]\ttrain-auc:0.85203\ttest-auc:0.83924\n",
      "[35]\ttrain-auc:0.85263\ttest-auc:0.83978\n",
      "[36]\ttrain-auc:0.85330\ttest-auc:0.84036\n",
      "[37]\ttrain-auc:0.85404\ttest-auc:0.84081\n",
      "[38]\ttrain-auc:0.85481\ttest-auc:0.84127\n",
      "[39]\ttrain-auc:0.85587\ttest-auc:0.84222\n",
      "[40]\ttrain-auc:0.85644\ttest-auc:0.84257\n",
      "[41]\ttrain-auc:0.85785\ttest-auc:0.84381\n",
      "[42]\ttrain-auc:0.85847\ttest-auc:0.84449\n",
      "[43]\ttrain-auc:0.85894\ttest-auc:0.84465\n",
      "[44]\ttrain-auc:0.85958\ttest-auc:0.84497\n",
      "[45]\ttrain-auc:0.85996\ttest-auc:0.84517\n",
      "[46]\ttrain-auc:0.86042\ttest-auc:0.84543\n",
      "[47]\ttrain-auc:0.86087\ttest-auc:0.84567\n",
      "[48]\ttrain-auc:0.86164\ttest-auc:0.84632\n",
      "[49]\ttrain-auc:0.86225\ttest-auc:0.84683\n",
      "[50]\ttrain-auc:0.86289\ttest-auc:0.84720\n",
      "[51]\ttrain-auc:0.86327\ttest-auc:0.84746\n",
      "[52]\ttrain-auc:0.86375\ttest-auc:0.84765\n",
      "[53]\ttrain-auc:0.86435\ttest-auc:0.84817\n",
      "[54]\ttrain-auc:0.86477\ttest-auc:0.84843\n",
      "[55]\ttrain-auc:0.86530\ttest-auc:0.84873\n",
      "[56]\ttrain-auc:0.86614\ttest-auc:0.84935\n",
      "[57]\ttrain-auc:0.86682\ttest-auc:0.84986\n",
      "[58]\ttrain-auc:0.86712\ttest-auc:0.85008\n",
      "[59]\ttrain-auc:0.86772\ttest-auc:0.85049\n",
      "[60]\ttrain-auc:0.86818\ttest-auc:0.85078\n",
      "[61]\ttrain-auc:0.86866\ttest-auc:0.85118\n",
      "[62]\ttrain-auc:0.86905\ttest-auc:0.85145\n",
      "[63]\ttrain-auc:0.86928\ttest-auc:0.85168\n",
      "[64]\ttrain-auc:0.86972\ttest-auc:0.85201\n",
      "[65]\ttrain-auc:0.87022\ttest-auc:0.85221\n",
      "[66]\ttrain-auc:0.87054\ttest-auc:0.85240\n",
      "[67]\ttrain-auc:0.87090\ttest-auc:0.85262\n",
      "[68]\ttrain-auc:0.87130\ttest-auc:0.85276\n",
      "[69]\ttrain-auc:0.87161\ttest-auc:0.85301\n",
      "[70]\ttrain-auc:0.87219\ttest-auc:0.85345\n",
      "[71]\ttrain-auc:0.87252\ttest-auc:0.85362\n",
      "[72]\ttrain-auc:0.87303\ttest-auc:0.85401\n",
      "[73]\ttrain-auc:0.87360\ttest-auc:0.85447\n",
      "[74]\ttrain-auc:0.87387\ttest-auc:0.85454\n",
      "[75]\ttrain-auc:0.87411\ttest-auc:0.85463\n",
      "[76]\ttrain-auc:0.87443\ttest-auc:0.85473\n",
      "[77]\ttrain-auc:0.87477\ttest-auc:0.85484\n",
      "[78]\ttrain-auc:0.87513\ttest-auc:0.85494\n",
      "[79]\ttrain-auc:0.87550\ttest-auc:0.85509\n",
      "[80]\ttrain-auc:0.87588\ttest-auc:0.85530\n",
      "[81]\ttrain-auc:0.87608\ttest-auc:0.85539\n",
      "[82]\ttrain-auc:0.87634\ttest-auc:0.85551\n",
      "[83]\ttrain-auc:0.87679\ttest-auc:0.85583\n",
      "[84]\ttrain-auc:0.87711\ttest-auc:0.85597\n",
      "[85]\ttrain-auc:0.87738\ttest-auc:0.85607\n",
      "[86]\ttrain-auc:0.87766\ttest-auc:0.85622\n",
      "[87]\ttrain-auc:0.87797\ttest-auc:0.85628\n",
      "[88]\ttrain-auc:0.87865\ttest-auc:0.85690\n",
      "[89]\ttrain-auc:0.87888\ttest-auc:0.85700\n",
      "[90]\ttrain-auc:0.87908\ttest-auc:0.85709\n",
      "[91]\ttrain-auc:0.87934\ttest-auc:0.85719\n",
      "[92]\ttrain-auc:0.87959\ttest-auc:0.85735\n",
      "[93]\ttrain-auc:0.87979\ttest-auc:0.85743\n",
      "[94]\ttrain-auc:0.88013\ttest-auc:0.85753\n",
      "[95]\ttrain-auc:0.88035\ttest-auc:0.85753\n",
      "[96]\ttrain-auc:0.88054\ttest-auc:0.85763\n",
      "[97]\ttrain-auc:0.88073\ttest-auc:0.85771\n",
      "[98]\ttrain-auc:0.88120\ttest-auc:0.85806\n",
      "[99]\ttrain-auc:0.88143\ttest-auc:0.85815\n",
      "[100]\ttrain-auc:0.88174\ttest-auc:0.85825\n",
      "[101]\ttrain-auc:0.88205\ttest-auc:0.85838\n",
      "[102]\ttrain-auc:0.88219\ttest-auc:0.85845\n",
      "[103]\ttrain-auc:0.88235\ttest-auc:0.85859\n",
      "[104]\ttrain-auc:0.88264\ttest-auc:0.85867\n",
      "[105]\ttrain-auc:0.88281\ttest-auc:0.85876\n",
      "[106]\ttrain-auc:0.88300\ttest-auc:0.85877\n",
      "[107]\ttrain-auc:0.88328\ttest-auc:0.85896\n",
      "[108]\ttrain-auc:0.88356\ttest-auc:0.85901\n",
      "[109]\ttrain-auc:0.88373\ttest-auc:0.85911\n",
      "[110]\ttrain-auc:0.88387\ttest-auc:0.85917\n",
      "[111]\ttrain-auc:0.88418\ttest-auc:0.85924\n",
      "[112]\ttrain-auc:0.88443\ttest-auc:0.85928\n",
      "[113]\ttrain-auc:0.88485\ttest-auc:0.85958\n",
      "[114]\ttrain-auc:0.88508\ttest-auc:0.85972\n",
      "[115]\ttrain-auc:0.88538\ttest-auc:0.85984\n",
      "[116]\ttrain-auc:0.88562\ttest-auc:0.85984\n",
      "[117]\ttrain-auc:0.88591\ttest-auc:0.85998\n",
      "[118]\ttrain-auc:0.88607\ttest-auc:0.86000\n",
      "[119]\ttrain-auc:0.88634\ttest-auc:0.86009\n",
      "[120]\ttrain-auc:0.88650\ttest-auc:0.86014\n",
      "[121]\ttrain-auc:0.88677\ttest-auc:0.86033\n",
      "[122]\ttrain-auc:0.88689\ttest-auc:0.86036\n",
      "[123]\ttrain-auc:0.88713\ttest-auc:0.86049\n",
      "[124]\ttrain-auc:0.88738\ttest-auc:0.86060\n",
      "[125]\ttrain-auc:0.88750\ttest-auc:0.86063\n",
      "[126]\ttrain-auc:0.88774\ttest-auc:0.86071\n",
      "[127]\ttrain-auc:0.88800\ttest-auc:0.86089\n",
      "[128]\ttrain-auc:0.88824\ttest-auc:0.86099\n",
      "[129]\ttrain-auc:0.88841\ttest-auc:0.86111\n",
      "[130]\ttrain-auc:0.88857\ttest-auc:0.86114\n",
      "[131]\ttrain-auc:0.88874\ttest-auc:0.86119\n",
      "[132]\ttrain-auc:0.88895\ttest-auc:0.86121\n",
      "[133]\ttrain-auc:0.88912\ttest-auc:0.86128\n",
      "[134]\ttrain-auc:0.88923\ttest-auc:0.86127\n",
      "[135]\ttrain-auc:0.88936\ttest-auc:0.86137\n",
      "[136]\ttrain-auc:0.88951\ttest-auc:0.86150\n",
      "[137]\ttrain-auc:0.88969\ttest-auc:0.86158\n",
      "[138]\ttrain-auc:0.88988\ttest-auc:0.86152\n",
      "[139]\ttrain-auc:0.89003\ttest-auc:0.86157\n",
      "[140]\ttrain-auc:0.89023\ttest-auc:0.86161\n",
      "[141]\ttrain-auc:0.89042\ttest-auc:0.86166\n",
      "[142]\ttrain-auc:0.89064\ttest-auc:0.86177\n",
      "[143]\ttrain-auc:0.89084\ttest-auc:0.86182\n",
      "[144]\ttrain-auc:0.89104\ttest-auc:0.86194\n",
      "[145]\ttrain-auc:0.89112\ttest-auc:0.86200\n",
      "[146]\ttrain-auc:0.89123\ttest-auc:0.86201\n",
      "[147]\ttrain-auc:0.89143\ttest-auc:0.86200\n",
      "[148]\ttrain-auc:0.89161\ttest-auc:0.86209\n",
      "[149]\ttrain-auc:0.89176\ttest-auc:0.86211\n",
      "[150]\ttrain-auc:0.89195\ttest-auc:0.86216\n",
      "[151]\ttrain-auc:0.89212\ttest-auc:0.86220\n",
      "[152]\ttrain-auc:0.89220\ttest-auc:0.86221\n",
      "[153]\ttrain-auc:0.89245\ttest-auc:0.86233\n",
      "[154]\ttrain-auc:0.89272\ttest-auc:0.86242\n",
      "[155]\ttrain-auc:0.89294\ttest-auc:0.86247\n",
      "[156]\ttrain-auc:0.89311\ttest-auc:0.86249\n",
      "[157]\ttrain-auc:0.89351\ttest-auc:0.86279\n",
      "[158]\ttrain-auc:0.89366\ttest-auc:0.86283\n",
      "[159]\ttrain-auc:0.89379\ttest-auc:0.86288\n",
      "[160]\ttrain-auc:0.89390\ttest-auc:0.86291\n",
      "[161]\ttrain-auc:0.89402\ttest-auc:0.86294\n",
      "[162]\ttrain-auc:0.89423\ttest-auc:0.86295\n",
      "[163]\ttrain-auc:0.89440\ttest-auc:0.86303\n",
      "[164]\ttrain-auc:0.89450\ttest-auc:0.86310\n",
      "[165]\ttrain-auc:0.89465\ttest-auc:0.86318\n",
      "[166]\ttrain-auc:0.89477\ttest-auc:0.86316\n",
      "[167]\ttrain-auc:0.89488\ttest-auc:0.86317\n",
      "[168]\ttrain-auc:0.89497\ttest-auc:0.86320\n",
      "[169]\ttrain-auc:0.89521\ttest-auc:0.86333\n",
      "[170]\ttrain-auc:0.89555\ttest-auc:0.86359\n",
      "[171]\ttrain-auc:0.89574\ttest-auc:0.86366\n",
      "[172]\ttrain-auc:0.89598\ttest-auc:0.86369\n",
      "[173]\ttrain-auc:0.89618\ttest-auc:0.86370\n",
      "[174]\ttrain-auc:0.89627\ttest-auc:0.86376\n",
      "[175]\ttrain-auc:0.89639\ttest-auc:0.86373\n",
      "[176]\ttrain-auc:0.89653\ttest-auc:0.86376\n",
      "[177]\ttrain-auc:0.89667\ttest-auc:0.86380\n",
      "[178]\ttrain-auc:0.89691\ttest-auc:0.86391\n",
      "[179]\ttrain-auc:0.89712\ttest-auc:0.86394\n",
      "[180]\ttrain-auc:0.89727\ttest-auc:0.86399\n",
      "[181]\ttrain-auc:0.89743\ttest-auc:0.86401\n",
      "[182]\ttrain-auc:0.89758\ttest-auc:0.86402\n",
      "[183]\ttrain-auc:0.89777\ttest-auc:0.86411\n",
      "[184]\ttrain-auc:0.89803\ttest-auc:0.86418\n",
      "[185]\ttrain-auc:0.89819\ttest-auc:0.86418\n",
      "[186]\ttrain-auc:0.89834\ttest-auc:0.86418\n",
      "[187]\ttrain-auc:0.89849\ttest-auc:0.86418\n",
      "[188]\ttrain-auc:0.89872\ttest-auc:0.86420\n",
      "[189]\ttrain-auc:0.89885\ttest-auc:0.86426\n",
      "[190]\ttrain-auc:0.89897\ttest-auc:0.86421\n",
      "[191]\ttrain-auc:0.89911\ttest-auc:0.86425\n",
      "[192]\ttrain-auc:0.89935\ttest-auc:0.86446\n",
      "[193]\ttrain-auc:0.89957\ttest-auc:0.86448\n",
      "[194]\ttrain-auc:0.89971\ttest-auc:0.86452\n",
      "[195]\ttrain-auc:0.89991\ttest-auc:0.86451\n",
      "[196]\ttrain-auc:0.90007\ttest-auc:0.86453\n",
      "[197]\ttrain-auc:0.90022\ttest-auc:0.86457\n",
      "[198]\ttrain-auc:0.90038\ttest-auc:0.86469\n",
      "[199]\ttrain-auc:0.90055\ttest-auc:0.86470\n",
      "[200]\ttrain-auc:0.90069\ttest-auc:0.86473\n",
      "[201]\ttrain-auc:0.90087\ttest-auc:0.86478\n",
      "[202]\ttrain-auc:0.90088\ttest-auc:0.86476\n",
      "[203]\ttrain-auc:0.90102\ttest-auc:0.86484\n",
      "[204]\ttrain-auc:0.90119\ttest-auc:0.86489\n",
      "[205]\ttrain-auc:0.90132\ttest-auc:0.86488\n",
      "[206]\ttrain-auc:0.90152\ttest-auc:0.86485\n",
      "[207]\ttrain-auc:0.90161\ttest-auc:0.86482\n",
      "[208]\ttrain-auc:0.90170\ttest-auc:0.86477\n",
      "[209]\ttrain-auc:0.90189\ttest-auc:0.86478\n",
      "[210]\ttrain-auc:0.90206\ttest-auc:0.86477\n",
      "[211]\ttrain-auc:0.90219\ttest-auc:0.86480\n",
      "[212]\ttrain-auc:0.90231\ttest-auc:0.86478\n",
      "[213]\ttrain-auc:0.90248\ttest-auc:0.86480\n",
      "[214]\ttrain-auc:0.90266\ttest-auc:0.86486\n",
      "[215]\ttrain-auc:0.90279\ttest-auc:0.86487\n",
      "[216]\ttrain-auc:0.90290\ttest-auc:0.86486\n",
      "[217]\ttrain-auc:0.90303\ttest-auc:0.86489\n",
      "[218]\ttrain-auc:0.90320\ttest-auc:0.86498\n",
      "[219]\ttrain-auc:0.90336\ttest-auc:0.86500\n",
      "[220]\ttrain-auc:0.90348\ttest-auc:0.86502\n",
      "[221]\ttrain-auc:0.90361\ttest-auc:0.86500\n",
      "[222]\ttrain-auc:0.90378\ttest-auc:0.86505\n",
      "[223]\ttrain-auc:0.90392\ttest-auc:0.86508\n",
      "[224]\ttrain-auc:0.90402\ttest-auc:0.86510\n",
      "[225]\ttrain-auc:0.90412\ttest-auc:0.86508\n",
      "[226]\ttrain-auc:0.90428\ttest-auc:0.86511\n",
      "[227]\ttrain-auc:0.90445\ttest-auc:0.86520\n",
      "[228]\ttrain-auc:0.90462\ttest-auc:0.86524\n",
      "[229]\ttrain-auc:0.90477\ttest-auc:0.86528\n",
      "[230]\ttrain-auc:0.90489\ttest-auc:0.86528\n",
      "[231]\ttrain-auc:0.90503\ttest-auc:0.86528\n",
      "[232]\ttrain-auc:0.90520\ttest-auc:0.86528\n",
      "[233]\ttrain-auc:0.90528\ttest-auc:0.86527\n",
      "[234]\ttrain-auc:0.90556\ttest-auc:0.86546\n",
      "[235]\ttrain-auc:0.90571\ttest-auc:0.86549\n",
      "[236]\ttrain-auc:0.90584\ttest-auc:0.86549\n",
      "[237]\ttrain-auc:0.90601\ttest-auc:0.86553\n",
      "[238]\ttrain-auc:0.90612\ttest-auc:0.86552\n",
      "[239]\ttrain-auc:0.90630\ttest-auc:0.86551\n",
      "[240]\ttrain-auc:0.90648\ttest-auc:0.86553\n",
      "[241]\ttrain-auc:0.90655\ttest-auc:0.86554\n",
      "[242]\ttrain-auc:0.90664\ttest-auc:0.86556\n",
      "[243]\ttrain-auc:0.90671\ttest-auc:0.86557\n",
      "[244]\ttrain-auc:0.90687\ttest-auc:0.86565\n",
      "[245]\ttrain-auc:0.90696\ttest-auc:0.86573\n",
      "[246]\ttrain-auc:0.90713\ttest-auc:0.86574\n",
      "[247]\ttrain-auc:0.90724\ttest-auc:0.86572\n",
      "[248]\ttrain-auc:0.90735\ttest-auc:0.86571\n",
      "[249]\ttrain-auc:0.90743\ttest-auc:0.86573\n",
      "[250]\ttrain-auc:0.90755\ttest-auc:0.86573\n",
      "[251]\ttrain-auc:0.90773\ttest-auc:0.86579\n",
      "[252]\ttrain-auc:0.90782\ttest-auc:0.86576\n",
      "[253]\ttrain-auc:0.90796\ttest-auc:0.86575\n",
      "[254]\ttrain-auc:0.90811\ttest-auc:0.86574\n",
      "[255]\ttrain-auc:0.90827\ttest-auc:0.86578\n",
      "[256]\ttrain-auc:0.90836\ttest-auc:0.86580\n",
      "[257]\ttrain-auc:0.90845\ttest-auc:0.86579\n",
      "[258]\ttrain-auc:0.90855\ttest-auc:0.86581\n",
      "[259]\ttrain-auc:0.90863\ttest-auc:0.86580\n",
      "[260]\ttrain-auc:0.90868\ttest-auc:0.86583\n",
      "[261]\ttrain-auc:0.90878\ttest-auc:0.86580\n",
      "[262]\ttrain-auc:0.90886\ttest-auc:0.86582\n",
      "[263]\ttrain-auc:0.90900\ttest-auc:0.86585\n",
      "[264]\ttrain-auc:0.90914\ttest-auc:0.86597\n",
      "[265]\ttrain-auc:0.90932\ttest-auc:0.86602\n",
      "[266]\ttrain-auc:0.90950\ttest-auc:0.86608\n",
      "[267]\ttrain-auc:0.90963\ttest-auc:0.86602\n",
      "[268]\ttrain-auc:0.90978\ttest-auc:0.86602\n",
      "[269]\ttrain-auc:0.90994\ttest-auc:0.86610\n",
      "[270]\ttrain-auc:0.91005\ttest-auc:0.86611\n",
      "[271]\ttrain-auc:0.91018\ttest-auc:0.86616\n",
      "[272]\ttrain-auc:0.91028\ttest-auc:0.86617\n",
      "[273]\ttrain-auc:0.91035\ttest-auc:0.86617\n",
      "[274]\ttrain-auc:0.91044\ttest-auc:0.86617\n",
      "[275]\ttrain-auc:0.91059\ttest-auc:0.86613\n",
      "[276]\ttrain-auc:0.91075\ttest-auc:0.86615\n",
      "[277]\ttrain-auc:0.91081\ttest-auc:0.86614\n",
      "[278]\ttrain-auc:0.91093\ttest-auc:0.86619\n",
      "[279]\ttrain-auc:0.91109\ttest-auc:0.86619\n",
      "[280]\ttrain-auc:0.91115\ttest-auc:0.86622\n",
      "[281]\ttrain-auc:0.91120\ttest-auc:0.86625\n",
      "[282]\ttrain-auc:0.91139\ttest-auc:0.86634\n",
      "[283]\ttrain-auc:0.91153\ttest-auc:0.86634\n",
      "[284]\ttrain-auc:0.91166\ttest-auc:0.86640\n",
      "[285]\ttrain-auc:0.91184\ttest-auc:0.86643\n",
      "[286]\ttrain-auc:0.91193\ttest-auc:0.86647\n",
      "[287]\ttrain-auc:0.91208\ttest-auc:0.86645\n",
      "[288]\ttrain-auc:0.91222\ttest-auc:0.86648\n",
      "[289]\ttrain-auc:0.91225\ttest-auc:0.86647\n",
      "[290]\ttrain-auc:0.91229\ttest-auc:0.86650\n",
      "[291]\ttrain-auc:0.91239\ttest-auc:0.86651\n",
      "[292]\ttrain-auc:0.91251\ttest-auc:0.86660\n",
      "[293]\ttrain-auc:0.91264\ttest-auc:0.86658\n",
      "[294]\ttrain-auc:0.91271\ttest-auc:0.86655\n",
      "[295]\ttrain-auc:0.91280\ttest-auc:0.86655\n",
      "[296]\ttrain-auc:0.91300\ttest-auc:0.86653\n",
      "[297]\ttrain-auc:0.91313\ttest-auc:0.86655\n",
      "[298]\ttrain-auc:0.91322\ttest-auc:0.86657\n",
      "[299]\ttrain-auc:0.91332\ttest-auc:0.86657\n",
      "[300]\ttrain-auc:0.91337\ttest-auc:0.86655\n",
      "[301]\ttrain-auc:0.91351\ttest-auc:0.86653\n",
      "[302]\ttrain-auc:0.91372\ttest-auc:0.86657\n",
      "[303]\ttrain-auc:0.91385\ttest-auc:0.86654\n",
      "[304]\ttrain-auc:0.91394\ttest-auc:0.86652\n",
      "[305]\ttrain-auc:0.91408\ttest-auc:0.86652\n",
      "[306]\ttrain-auc:0.91416\ttest-auc:0.86652\n",
      "[307]\ttrain-auc:0.91429\ttest-auc:0.86653\n",
      "[308]\ttrain-auc:0.91431\ttest-auc:0.86653\n",
      "[309]\ttrain-auc:0.91435\ttest-auc:0.86654\n",
      "[310]\ttrain-auc:0.91444\ttest-auc:0.86656\n",
      "[311]\ttrain-auc:0.91459\ttest-auc:0.86660\n",
      "[312]\ttrain-auc:0.91470\ttest-auc:0.86659\n",
      "[313]\ttrain-auc:0.91480\ttest-auc:0.86659\n",
      "[314]\ttrain-auc:0.91491\ttest-auc:0.86659\n",
      "[315]\ttrain-auc:0.91506\ttest-auc:0.86661\n",
      "[316]\ttrain-auc:0.91514\ttest-auc:0.86665\n",
      "[317]\ttrain-auc:0.91528\ttest-auc:0.86666\n",
      "[318]\ttrain-auc:0.91539\ttest-auc:0.86667\n",
      "[319]\ttrain-auc:0.91549\ttest-auc:0.86663\n",
      "[320]\ttrain-auc:0.91554\ttest-auc:0.86667\n",
      "[321]\ttrain-auc:0.91566\ttest-auc:0.86676\n",
      "[322]\ttrain-auc:0.91578\ttest-auc:0.86678\n",
      "[323]\ttrain-auc:0.91593\ttest-auc:0.86681\n",
      "[324]\ttrain-auc:0.91609\ttest-auc:0.86677\n",
      "[325]\ttrain-auc:0.91624\ttest-auc:0.86681\n",
      "[326]\ttrain-auc:0.91637\ttest-auc:0.86680\n",
      "[327]\ttrain-auc:0.91649\ttest-auc:0.86680\n",
      "[328]\ttrain-auc:0.91662\ttest-auc:0.86681\n",
      "[329]\ttrain-auc:0.91666\ttest-auc:0.86682\n",
      "[330]\ttrain-auc:0.91675\ttest-auc:0.86684\n",
      "[331]\ttrain-auc:0.91686\ttest-auc:0.86684\n",
      "[332]\ttrain-auc:0.91695\ttest-auc:0.86686\n",
      "[333]\ttrain-auc:0.91698\ttest-auc:0.86686\n",
      "[334]\ttrain-auc:0.91716\ttest-auc:0.86694\n",
      "[335]\ttrain-auc:0.91719\ttest-auc:0.86695\n",
      "[336]\ttrain-auc:0.91721\ttest-auc:0.86694\n",
      "[337]\ttrain-auc:0.91730\ttest-auc:0.86692\n",
      "[338]\ttrain-auc:0.91745\ttest-auc:0.86690\n",
      "[339]\ttrain-auc:0.91760\ttest-auc:0.86692\n",
      "[340]\ttrain-auc:0.91769\ttest-auc:0.86692\n",
      "[341]\ttrain-auc:0.91778\ttest-auc:0.86696\n",
      "[342]\ttrain-auc:0.91794\ttest-auc:0.86708\n",
      "[343]\ttrain-auc:0.91804\ttest-auc:0.86707\n",
      "[344]\ttrain-auc:0.91824\ttest-auc:0.86715\n",
      "[345]\ttrain-auc:0.91834\ttest-auc:0.86713\n",
      "[346]\ttrain-auc:0.91844\ttest-auc:0.86716\n",
      "[347]\ttrain-auc:0.91848\ttest-auc:0.86717\n",
      "[348]\ttrain-auc:0.91860\ttest-auc:0.86710\n",
      "[349]\ttrain-auc:0.91869\ttest-auc:0.86713\n",
      "[350]\ttrain-auc:0.91879\ttest-auc:0.86711\n",
      "[351]\ttrain-auc:0.91891\ttest-auc:0.86711\n",
      "[352]\ttrain-auc:0.91902\ttest-auc:0.86713\n",
      "[353]\ttrain-auc:0.91914\ttest-auc:0.86721\n",
      "[354]\ttrain-auc:0.91923\ttest-auc:0.86721\n",
      "[355]\ttrain-auc:0.91938\ttest-auc:0.86724\n",
      "[356]\ttrain-auc:0.91942\ttest-auc:0.86724\n",
      "[357]\ttrain-auc:0.91948\ttest-auc:0.86725\n",
      "[358]\ttrain-auc:0.91961\ttest-auc:0.86730\n",
      "[359]\ttrain-auc:0.91971\ttest-auc:0.86735\n",
      "[360]\ttrain-auc:0.91974\ttest-auc:0.86733\n",
      "[361]\ttrain-auc:0.91989\ttest-auc:0.86734\n",
      "[362]\ttrain-auc:0.92005\ttest-auc:0.86737\n",
      "[363]\ttrain-auc:0.92023\ttest-auc:0.86745\n",
      "[364]\ttrain-auc:0.92032\ttest-auc:0.86747\n",
      "[365]\ttrain-auc:0.92046\ttest-auc:0.86748\n",
      "[366]\ttrain-auc:0.92053\ttest-auc:0.86747\n",
      "[367]\ttrain-auc:0.92060\ttest-auc:0.86745\n",
      "[368]\ttrain-auc:0.92065\ttest-auc:0.86744\n",
      "[369]\ttrain-auc:0.92074\ttest-auc:0.86745\n",
      "[370]\ttrain-auc:0.92077\ttest-auc:0.86745\n",
      "[371]\ttrain-auc:0.92081\ttest-auc:0.86745\n",
      "[372]\ttrain-auc:0.92086\ttest-auc:0.86747\n",
      "[373]\ttrain-auc:0.92094\ttest-auc:0.86748\n",
      "[374]\ttrain-auc:0.92106\ttest-auc:0.86748\n",
      "[375]\ttrain-auc:0.92119\ttest-auc:0.86747\n",
      "[376]\ttrain-auc:0.92135\ttest-auc:0.86747\n",
      "[377]\ttrain-auc:0.92146\ttest-auc:0.86745\n",
      "[378]\ttrain-auc:0.92151\ttest-auc:0.86745\n",
      "[379]\ttrain-auc:0.92170\ttest-auc:0.86747\n",
      "[380]\ttrain-auc:0.92183\ttest-auc:0.86749\n",
      "[381]\ttrain-auc:0.92194\ttest-auc:0.86749\n",
      "[382]\ttrain-auc:0.92200\ttest-auc:0.86749\n",
      "[383]\ttrain-auc:0.92212\ttest-auc:0.86750\n",
      "[384]\ttrain-auc:0.92222\ttest-auc:0.86755\n",
      "[385]\ttrain-auc:0.92233\ttest-auc:0.86756\n",
      "[386]\ttrain-auc:0.92242\ttest-auc:0.86757\n",
      "[387]\ttrain-auc:0.92252\ttest-auc:0.86760\n",
      "[388]\ttrain-auc:0.92267\ttest-auc:0.86755\n",
      "[389]\ttrain-auc:0.92275\ttest-auc:0.86756\n",
      "[390]\ttrain-auc:0.92280\ttest-auc:0.86757\n",
      "[391]\ttrain-auc:0.92285\ttest-auc:0.86755\n",
      "[392]\ttrain-auc:0.92298\ttest-auc:0.86757\n",
      "[393]\ttrain-auc:0.92313\ttest-auc:0.86757\n",
      "[394]\ttrain-auc:0.92324\ttest-auc:0.86755\n",
      "[395]\ttrain-auc:0.92335\ttest-auc:0.86758\n",
      "[396]\ttrain-auc:0.92342\ttest-auc:0.86758\n",
      "[397]\ttrain-auc:0.92357\ttest-auc:0.86759\n",
      "[398]\ttrain-auc:0.92359\ttest-auc:0.86758\n",
      "[399]\ttrain-auc:0.92363\ttest-auc:0.86755\n",
      "[400]\ttrain-auc:0.92373\ttest-auc:0.86754\n",
      "[401]\ttrain-auc:0.92386\ttest-auc:0.86756\n",
      "[402]\ttrain-auc:0.92397\ttest-auc:0.86763\n",
      "[403]\ttrain-auc:0.92404\ttest-auc:0.86761\n",
      "[404]\ttrain-auc:0.92415\ttest-auc:0.86760\n",
      "[405]\ttrain-auc:0.92431\ttest-auc:0.86756\n",
      "[406]\ttrain-auc:0.92437\ttest-auc:0.86755\n",
      "[407]\ttrain-auc:0.92442\ttest-auc:0.86752\n",
      "[408]\ttrain-auc:0.92455\ttest-auc:0.86751\n",
      "[409]\ttrain-auc:0.92464\ttest-auc:0.86749\n",
      "[410]\ttrain-auc:0.92466\ttest-auc:0.86748\n",
      "[411]\ttrain-auc:0.92469\ttest-auc:0.86749\n",
      "[412]\ttrain-auc:0.92476\ttest-auc:0.86753\n",
      "[413]\ttrain-auc:0.92481\ttest-auc:0.86750\n",
      "[414]\ttrain-auc:0.92490\ttest-auc:0.86751\n",
      "[415]\ttrain-auc:0.92503\ttest-auc:0.86753\n",
      "[416]\ttrain-auc:0.92506\ttest-auc:0.86750\n",
      "[417]\ttrain-auc:0.92509\ttest-auc:0.86751\n",
      "[418]\ttrain-auc:0.92518\ttest-auc:0.86750\n",
      "[419]\ttrain-auc:0.92532\ttest-auc:0.86747\n",
      "[420]\ttrain-auc:0.92540\ttest-auc:0.86748\n",
      "[421]\ttrain-auc:0.92552\ttest-auc:0.86753\n",
      "[422]\ttrain-auc:0.92567\ttest-auc:0.86762\n",
      "[423]\ttrain-auc:0.92584\ttest-auc:0.86760\n",
      "[424]\ttrain-auc:0.92595\ttest-auc:0.86763\n",
      "[425]\ttrain-auc:0.92606\ttest-auc:0.86762\n",
      "[426]\ttrain-auc:0.92610\ttest-auc:0.86759\n",
      "[427]\ttrain-auc:0.92624\ttest-auc:0.86756\n",
      "[428]\ttrain-auc:0.92636\ttest-auc:0.86756\n",
      "[429]\ttrain-auc:0.92647\ttest-auc:0.86752\n",
      "[430]\ttrain-auc:0.92658\ttest-auc:0.86754\n",
      "[431]\ttrain-auc:0.92665\ttest-auc:0.86752\n",
      "[432]\ttrain-auc:0.92680\ttest-auc:0.86752\n",
      "[433]\ttrain-auc:0.92691\ttest-auc:0.86753\n",
      "[434]\ttrain-auc:0.92702\ttest-auc:0.86746\n",
      "[435]\ttrain-auc:0.92711\ttest-auc:0.86744\n",
      "[436]\ttrain-auc:0.92725\ttest-auc:0.86743\n",
      "[437]\ttrain-auc:0.92736\ttest-auc:0.86746\n",
      "[438]\ttrain-auc:0.92740\ttest-auc:0.86744\n",
      "[439]\ttrain-auc:0.92750\ttest-auc:0.86750\n",
      "[440]\ttrain-auc:0.92760\ttest-auc:0.86751\n",
      "[441]\ttrain-auc:0.92770\ttest-auc:0.86748\n",
      "[442]\ttrain-auc:0.92776\ttest-auc:0.86746\n",
      "[443]\ttrain-auc:0.92781\ttest-auc:0.86744\n",
      "[444]\ttrain-auc:0.92793\ttest-auc:0.86743\n",
      "[445]\ttrain-auc:0.92796\ttest-auc:0.86745\n",
      "[446]\ttrain-auc:0.92799\ttest-auc:0.86745\n",
      "[447]\ttrain-auc:0.92809\ttest-auc:0.86743\n",
      "[448]\ttrain-auc:0.92809\ttest-auc:0.86743\n",
      "[449]\ttrain-auc:0.92813\ttest-auc:0.86743\n",
      "[450]\ttrain-auc:0.92817\ttest-auc:0.86744\n",
      "[451]\ttrain-auc:0.92826\ttest-auc:0.86743\n",
      "[452]\ttrain-auc:0.92841\ttest-auc:0.86745\n",
      "[453]\ttrain-auc:0.92855\ttest-auc:0.86745\n",
      "[454]\ttrain-auc:0.92864\ttest-auc:0.86745\n",
      "[455]\ttrain-auc:0.92867\ttest-auc:0.86744\n",
      "[456]\ttrain-auc:0.92878\ttest-auc:0.86749\n",
      "[457]\ttrain-auc:0.92882\ttest-auc:0.86750\n",
      "[458]\ttrain-auc:0.92890\ttest-auc:0.86752\n",
      "[459]\ttrain-auc:0.92903\ttest-auc:0.86750\n",
      "[460]\ttrain-auc:0.92914\ttest-auc:0.86752\n",
      "[461]\ttrain-auc:0.92923\ttest-auc:0.86751\n",
      "[462]\ttrain-auc:0.92935\ttest-auc:0.86748\n",
      "[463]\ttrain-auc:0.92943\ttest-auc:0.86747\n",
      "[464]\ttrain-auc:0.92954\ttest-auc:0.86750\n",
      "[465]\ttrain-auc:0.92959\ttest-auc:0.86749\n",
      "[466]\ttrain-auc:0.92961\ttest-auc:0.86749\n",
      "[467]\ttrain-auc:0.92966\ttest-auc:0.86751\n",
      "[468]\ttrain-auc:0.92976\ttest-auc:0.86753\n",
      "[469]\ttrain-auc:0.92985\ttest-auc:0.86754\n",
      "[470]\ttrain-auc:0.92998\ttest-auc:0.86753\n",
      "[471]\ttrain-auc:0.93009\ttest-auc:0.86758\n",
      "[472]\ttrain-auc:0.93024\ttest-auc:0.86760\n",
      "[473]\ttrain-auc:0.93032\ttest-auc:0.86756\n",
      "[474]\ttrain-auc:0.93033\ttest-auc:0.86757\n",
      "[475]\ttrain-auc:0.93039\ttest-auc:0.86753\n",
      "[476]\ttrain-auc:0.93051\ttest-auc:0.86752\n",
      "[477]\ttrain-auc:0.93063\ttest-auc:0.86746\n",
      "[478]\ttrain-auc:0.93075\ttest-auc:0.86742\n",
      "[479]\ttrain-auc:0.93078\ttest-auc:0.86742\n",
      "[480]\ttrain-auc:0.93087\ttest-auc:0.86741\n",
      "[481]\ttrain-auc:0.93093\ttest-auc:0.86745\n",
      "[482]\ttrain-auc:0.93096\ttest-auc:0.86743\n",
      "[483]\ttrain-auc:0.93104\ttest-auc:0.86743\n",
      "[484]\ttrain-auc:0.93118\ttest-auc:0.86743\n",
      "[485]\ttrain-auc:0.93129\ttest-auc:0.86747\n",
      "[486]\ttrain-auc:0.93141\ttest-auc:0.86748\n",
      "[487]\ttrain-auc:0.93153\ttest-auc:0.86747\n",
      "[488]\ttrain-auc:0.93162\ttest-auc:0.86744\n",
      "[489]\ttrain-auc:0.93166\ttest-auc:0.86743\n",
      "[490]\ttrain-auc:0.93178\ttest-auc:0.86743\n",
      "[491]\ttrain-auc:0.93183\ttest-auc:0.86742\n",
      "[492]\ttrain-auc:0.93188\ttest-auc:0.86739\n",
      "[493]\ttrain-auc:0.93198\ttest-auc:0.86736\n",
      "[494]\ttrain-auc:0.93210\ttest-auc:0.86734\n",
      "[495]\ttrain-auc:0.93219\ttest-auc:0.86733\n",
      "[496]\ttrain-auc:0.93223\ttest-auc:0.86732\n",
      "[497]\ttrain-auc:0.93232\ttest-auc:0.86733\n",
      "[498]\ttrain-auc:0.93244\ttest-auc:0.86733\n",
      "[499]\ttrain-auc:0.93249\ttest-auc:0.86736\n"
     ]
    }
   ],
   "source": [
    "wandb.init(project=\"wids_2021\", sync_tensorboard=True)\n",
    "config = wandb.config\n",
    "\n",
    "\n",
    "param = {'subsample': 1.0, \n",
    "         'num_leaves': 20, \n",
    "         'min_child_weight': 5, \n",
    "         'max_depth': 5, \n",
    "         'learning_rate': 0.1, \n",
    "         'gamma': 1.5, \n",
    "         'colsample_bytree': 1.0,\n",
    "         'n_estimators':200,\n",
    "          'eval_metric':'auc',\n",
    "          'objective': 'binary:logistic'}\n",
    "\n",
    "# wandb.config.update(params)\n",
    "\n",
    "watchlist = [(xg_train, 'train'), (xg_test, 'test')]\n",
    "num_round = 500\n",
    "bst = xgb.train(param, xg_train, num_round, watchlist, callbacks=[wandb.xgboost.wandb_callback()])\n",
    "\n",
    "# get prediction\n",
    "pred = bst.predict(xg_test)"
   ]
  },
  {
   "cell_type": "code",
   "execution_count": 103,
   "metadata": {},
   "outputs": [
    {
     "data": {
      "text/plain": [
       "0.9197601704632955"
      ]
     },
     "execution_count": 103,
     "metadata": {},
     "output_type": "execute_result"
    }
   ],
   "source": [
    "#bst.fit(df_train.values, Y.values)\n",
    "\n",
    "metrics.roc_auc_score(Y.values, bst.predict(xgb.DMatrix(df_train.values)))"
   ]
  },
  {
   "cell_type": "code",
   "execution_count": null,
   "metadata": {},
   "outputs": [],
   "source": [
    "#Basic model final auc: 0.7917882139874278\n",
    "#0.8263166791535951\n",
    "#0.8928322559066909\n"
   ]
  },
  {
   "cell_type": "code",
   "execution_count": 104,
   "metadata": {},
   "outputs": [],
   "source": [
    "pred_proba = bst.predict(xgb.DMatrix(df_pred.values))\n",
    "\n",
    "#pred_proba = xgbm.predict_proba(df_pred.values)[:,1]]"
   ]
  },
  {
   "cell_type": "code",
   "execution_count": 105,
   "metadata": {},
   "outputs": [],
   "source": [
    "submittion = pd.DataFrame([unlabeled.encounter_id,pred_proba]).T\n",
    "submittion.encounter_id = submittion.encounter_id.astype('int32')\n",
    "submittion.set_index('encounter_id',inplace=True)\n",
    "submittion.columns = ['diabetes_mellitus']\n",
    "submittion.fillna(0.5).to_csv('SolutionWiDS2021_XGB_500_epochs_best_params.csv')"
   ]
  },
  {
   "cell_type": "code",
   "execution_count": null,
   "metadata": {},
   "outputs": [],
   "source": []
  },
  {
   "cell_type": "markdown",
   "metadata": {},
   "source": [
    "### CV with random hpopt"
   ]
  },
  {
   "cell_type": "code",
   "execution_count": 69,
   "metadata": {},
   "outputs": [],
   "source": [
    "from sklearn.model_selection import RandomizedSearchCV, GridSearchCV\n",
    "from xgboost import XGBClassifier\n",
    "from sklearn.metrics import roc_auc_score\n",
    "from sklearn.model_selection import StratifiedKFold\n",
    "\n",
    "# A parameter grid for XGBoost\n",
    "params = {\n",
    "        'min_child_weight': [1, 5],\n",
    "        'gamma': [0.5, 1.5, 3],\n",
    "        'subsample': [0.6, 1.0],\n",
    "        'colsample_bytree': [0.6, 1.0],\n",
    "        'max_depth': [3, 4, 5],\n",
    "        'num_leaves': [20, 30, 40],\n",
    "        'learning_rate': [0.001, 0.01, 0.1]\n",
    "        }\n"
   ]
  },
  {
   "cell_type": "code",
   "execution_count": 70,
   "metadata": {},
   "outputs": [],
   "source": [
    "xgb = XGBClassifier(n_estimators=200, objective='binary:logistic', verbose=1)"
   ]
  },
  {
   "cell_type": "code",
   "execution_count": 74,
   "metadata": {},
   "outputs": [],
   "source": [
    "folds = 5\n",
    "param_comb = 40\n",
    "\n",
    "skf = StratifiedKFold(n_splits=folds, shuffle = True, random_state = 1001)\n",
    "\n",
    "random_search = RandomizedSearchCV(xgb, param_distributions=params, n_iter=param_comb, scoring='roc_auc', \n",
    "                                   n_jobs=4, cv=skf.split(df_train.values, Y), verbose=3, \n",
    "                                   random_state=1001)\n"
   ]
  },
  {
   "cell_type": "code",
   "execution_count": 75,
   "metadata": {},
   "outputs": [
    {
     "name": "stdout",
     "output_type": "stream",
     "text": [
      "Fitting 5 folds for each of 40 candidates, totalling 200 fits\n"
     ]
    },
    {
     "name": "stderr",
     "output_type": "stream",
     "text": [
      "/opt/conda/lib/python3.7/site-packages/xgboost/sklearn.py:892: UserWarning: The use of label encoder in XGBClassifier is deprecated and will be removed in a future release. To remove this warning, do the following: 1) Pass option use_label_encoder=False when constructing XGBClassifier object; and 2) Encode your labels (y) as integers starting with 0, i.e. 0, 1, 2, ..., [num_class - 1].\n",
      "  warnings.warn(label_encoder_deprecation_msg, UserWarning)\n"
     ]
    },
    {
     "name": "stdout",
     "output_type": "stream",
     "text": [
      "[06:40:04] WARNING: ../src/learner.cc:541: \n",
      "Parameters: { num_leaves, verbose } might not be used.\n",
      "\n",
      "  This may not be accurate due to some parameters are only used in language bindings but\n",
      "  passed down to XGBoost core.  Or some parameters are not used but slip through this\n",
      "  verification. Please open an issue if you find above cases.\n",
      "\n",
      "\n",
      "[06:40:05] WARNING: ../src/learner.cc:1061: Starting in XGBoost 1.3.0, the default evaluation metric used with the objective 'binary:logistic' was changed from 'error' to 'logloss'. Explicitly set eval_metric if you'd like to restore the old behavior.\n",
      "17051.079075574875\n"
     ]
    }
   ],
   "source": [
    "# Here we go\n",
    "import time\n",
    "start=time.time()\n",
    "random_search.fit(df_train.values, Y)\n",
    "print(time.time()-start)"
   ]
  },
  {
   "cell_type": "code",
   "execution_count": 106,
   "metadata": {},
   "outputs": [
    {
     "data": {
      "text/plain": [
       "RandomizedSearchCV(cv=<generator object _BaseKFold.split at 0x7f54ab3953d0>,\n",
       "                   estimator=XGBClassifier(base_score=None, booster=None,\n",
       "                                           colsample_bylevel=None,\n",
       "                                           colsample_bynode=None,\n",
       "                                           colsample_bytree=None, gamma=None,\n",
       "                                           gpu_id=None, importance_type='gain',\n",
       "                                           interaction_constraints=None,\n",
       "                                           learning_rate=None,\n",
       "                                           max_delta_step=None, max_depth=None,\n",
       "                                           min_child_weight=None, missing...\n",
       "                                           scale_pos_weight=None,\n",
       "                                           subsample=None, tree_method=None,\n",
       "                                           validate_parameters=None, verbose=1,\n",
       "                                           verbosity=None),\n",
       "                   n_iter=40, n_jobs=4,\n",
       "                   param_distributions={'colsample_bytree': [0.6, 1.0],\n",
       "                                        'gamma': [0.5, 1.5, 3],\n",
       "                                        'learning_rate': [0.001, 0.01, 0.1],\n",
       "                                        'max_depth': [3, 4, 5],\n",
       "                                        'min_child_weight': [1, 5],\n",
       "                                        'num_leaves': [20, 30, 40],\n",
       "                                        'subsample': [0.6, 1.0]},\n",
       "                   random_state=1001, scoring='roc_auc', verbose=3)"
      ]
     },
     "execution_count": 106,
     "metadata": {},
     "output_type": "execute_result"
    }
   ],
   "source": [
    "random_search"
   ]
  },
  {
   "cell_type": "code",
   "execution_count": 89,
   "metadata": {},
   "outputs": [
    {
     "name": "stdout",
     "output_type": "stream",
     "text": [
      "{'subsample': 1.0, 'num_leaves': 20, 'min_child_weight': 5, 'max_depth': 5, 'learning_rate': 0.1, 'gamma': 1.5, 'colsample_bytree': 1.0}\n"
     ]
    }
   ],
   "source": [
    "print(random_search.best_params_)"
   ]
  },
  {
   "cell_type": "code",
   "execution_count": 82,
   "metadata": {},
   "outputs": [],
   "source": [
    "pred_proba_rs = random_search.predict_proba(df_pred.values)"
   ]
  },
  {
   "cell_type": "code",
   "execution_count": null,
   "metadata": {},
   "outputs": [],
   "source": [
    "# (pred_proba, pred_proba_rs[:,1])"
   ]
  },
  {
   "cell_type": "code",
   "execution_count": 83,
   "metadata": {},
   "outputs": [
    {
     "data": {
      "text/plain": [
       "(array([4739., 1721.,  939.,  663.,  615.,  484.,  429.,  407.,  202.,\n",
       "          35.]),\n",
       " array([0.00112045, 0.09701023, 0.19290002, 0.2887898 , 0.3846796 ,\n",
       "        0.48056936, 0.57645917, 0.6723489 , 0.7682387 , 0.8641285 ,\n",
       "        0.9600183 ], dtype=float32),\n",
       " <BarContainer object of 10 artists>)"
      ]
     },
     "execution_count": 83,
     "metadata": {},
     "output_type": "execute_result"
    },
    {
     "data": {
      "image/png": "[encoded data removed]",
      "text/plain": [
       "<Figure size 432x288 with 1 Axes>"
      ]
     },
     "metadata": {
      "needs_background": "light"
     },
     "output_type": "display_data"
    }
   ],
   "source": [
    "import matplotlib.pyplot as plt\n",
    "plt.hist(pred_proba_rs[:,1])"
   ]
  },
  {
   "cell_type": "code",
   "execution_count": 84,
   "metadata": {},
   "outputs": [],
   "source": [
    "submittion = pd.DataFrame([unlabeled.encounter_id,pred_proba_rs[:,1]]).T\n",
    "submittion.encounter_id = submittion.encounter_id.astype('int32')\n",
    "submittion.set_index('encounter_id',inplace=True)\n",
    "submittion.columns = ['diabetes_mellitus']\n",
    "submittion.fillna(0.5).to_csv('SolutionWiDS2021_XGB_200_epochs_CV_RandomSearch_200runs.csv')"
   ]
  },
  {
   "cell_type": "code",
   "execution_count": null,
   "metadata": {},
   "outputs": [],
   "source": []
  }
 ],
 "metadata": {
  "environment": {
   "name": "tf2-gpu.2-3.m61",
   "type": "gcloud",
   "uri": "gcr.io/deeplearning-platform-release/tf2-gpu.2-3:m61"
  },
  "kernelspec": {
   "display_name": "Python 3",
   "language": "python",
   "name": "python3"
  },
  "language_info": {
   "codemirror_mode": {
    "name": "ipython",
    "version": 3
   },
   "file_extension": ".py",
   "mimetype": "text/x-python",
   "name": "python",
   "nbconvert_exporter": "python",
   "pygments_lexer": "ipython3",
   "version": "3.7.9"
  }
 },
 "nbformat": 4,
 "nbformat_minor": 4
}
