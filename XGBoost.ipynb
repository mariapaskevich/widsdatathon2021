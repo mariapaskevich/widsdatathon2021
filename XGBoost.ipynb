{
 "cells": [
  {
   "cell_type": "code",
   "execution_count": 11,
   "metadata": {},
   "outputs": [],
   "source": [
    "import pandas as pd\n",
    "from sklearn.model_selection import train_test_split\n",
    "from sklearn.preprocessing import LabelEncoder\n",
    "from sklearn.ensemble import GradientBoostingClassifier\n",
    "from sklearn import metrics\n",
    "import xgboost as xgb\n",
    "\n",
    "import wandb\n",
    "from wandb.lightgbm import wandb_callback\n",
    "\n",
    "pd.set_option(\"display.max_columns\", 181)\n",
    "pd.set_option(\"display.min_rows\", 200)"
   ]
  },
  {
   "cell_type": "code",
   "execution_count": 22,
   "metadata": {},
   "outputs": [],
   "source": [
    "#!pip install xgboost"
   ]
  },
  {
   "cell_type": "code",
   "execution_count": 2,
   "metadata": {},
   "outputs": [],
   "source": [
    "data_dictionary = pd.read_csv(\"DataDictionaryWiDS2021.csv\")\n",
    "unlabeled = pd.read_csv(\"UnlabeledWiDS2021.csv\")\n",
    "training = pd.read_csv(\"TrainingWiDS2021.csv\")"
   ]
  },
  {
   "cell_type": "code",
   "execution_count": 3,
   "metadata": {},
   "outputs": [],
   "source": [
    "column_datatype_mapping = dict(zip(data_dictionary['Variable Name'], data_dictionary['Data Type']))"
   ]
  },
  {
   "cell_type": "code",
   "execution_count": 4,
   "metadata": {},
   "outputs": [],
   "source": [
    "del training['Unnamed: 0']\n",
    "del unlabeled['Unnamed: 0']"
   ]
  },
  {
   "cell_type": "code",
   "execution_count": 5,
   "metadata": {},
   "outputs": [],
   "source": [
    "all_data = training.drop(['encounter_id', \n",
    "                          'hospital_id', \n",
    "                          'diabetes_mellitus'], axis=1).append(unlabeled)"
   ]
  },
  {
   "cell_type": "code",
   "execution_count": 6,
   "metadata": {},
   "outputs": [],
   "source": [
    "cat_cols = []\n",
    "cont_cols = []\n",
    "for col in all_data.columns:\n",
    "    if all_data.dtypes[col] == \"object\":\n",
    "        cat_cols.append(col)\n",
    "        all_data[col] = all_data[col].fillna(\"NA\")\n",
    "        all_data[col] = LabelEncoder().fit_transform(all_data[col])\n",
    "        all_data[col]= all_data[col].astype('category')\n",
    "    elif column_datatype_mapping[col] == \"binary\":\n",
    "        all_data[col] = all_data[col].fillna(-1)\n",
    "    elif column_datatype_mapping[col] == \"numeric\":\n",
    "        all_data[col] = all_data[col].fillna(0)\n",
    "        cont_cols.append(col)\n",
    "    else:\n",
    "        all_data[col] = all_data[col].fillna(all_data[col].median())\n",
    "        cont_cols.append(col)"
   ]
  },
  {
   "cell_type": "code",
   "execution_count": 7,
   "metadata": {},
   "outputs": [],
   "source": [
    "df_train = all_data[:len(training)]\n",
    "df_pred = all_data[len(training):].reset_index(drop=True)\n",
    "Y = training['diabetes_mellitus']"
   ]
  },
  {
   "cell_type": "code",
   "execution_count": 25,
   "metadata": {},
   "outputs": [],
   "source": [
    "X_train, X_val, y_train, y_val = train_test_split(df_train, Y, test_size=0.20, random_state=42,shuffle=True )"
   ]
  },
  {
   "cell_type": "code",
   "execution_count": 26,
   "metadata": {},
   "outputs": [],
   "source": [
    "xg_train = xgb.DMatrix(X_train.values, label=y_train)\n",
    "xg_test = xgb.DMatrix(X_val.values, label=y_val)"
   ]
  },
  {
   "cell_type": "code",
   "execution_count": 43,
   "metadata": {},
   "outputs": [
    {
     "data": {
      "text/html": [
       "Finishing last run (ID:1kfb1keh) before initializing another..."
      ],
      "text/plain": [
       "<IPython.core.display.HTML object>"
      ]
     },
     "metadata": {},
     "output_type": "display_data"
    },
    {
     "data": {
      "text/html": [
       "<br/>Waiting for W&B process to finish, PID 6120<br/>Program ended successfully."
      ],
      "text/plain": [
       "<IPython.core.display.HTML object>"
      ]
     },
     "metadata": {},
     "output_type": "display_data"
    },
    {
     "data": {
      "application/vnd.jupyter.widget-view+json": {
       "model_id": "",
       "version_major": 2,
       "version_minor": 0
      },
      "text/plain": [
       "VBox(children=(Label(value=' 0.00MB of 0.00MB uploaded (0.00MB deduped)\\r'), FloatProgress(value=1.0, max=1.0)…"
      ]
     },
     "metadata": {},
     "output_type": "display_data"
    },
    {
     "data": {
      "text/html": [
       "Find user logs for this run at: <code>/home/jupyter/wids/wandb/run-20210117_003353-1kfb1keh/logs/debug.log</code>"
      ],
      "text/plain": [
       "<IPython.core.display.HTML object>"
      ]
     },
     "metadata": {},
     "output_type": "display_data"
    },
    {
     "data": {
      "text/html": [
       "Find internal logs for this run at: <code>/home/jupyter/wids/wandb/run-20210117_003353-1kfb1keh/logs/debug-internal.log</code>"
      ],
      "text/plain": [
       "<IPython.core.display.HTML object>"
      ]
     },
     "metadata": {},
     "output_type": "display_data"
    },
    {
     "data": {
      "text/html": [
       "<h3>Run summary:</h3><br/><style>\n",
       "    table.wandb td:nth-child(1) { padding: 0 10px; text-align: right }\n",
       "    </style><table class=\"wandb\">\n",
       "<tr><td>train-auc</td><td>0.90066</td></tr><tr><td>test-auc</td><td>0.86116</td></tr><tr><td>_step</td><td>199</td></tr><tr><td>_runtime</td><td>82</td></tr><tr><td>_timestamp</td><td>1610843719</td></tr></table>"
      ],
      "text/plain": [
       "<IPython.core.display.HTML object>"
      ]
     },
     "metadata": {},
     "output_type": "display_data"
    },
    {
     "data": {
      "text/html": [
       "<h3>Run history:</h3><br/><style>\n",
       "    table.wandb td:nth-child(1) { padding: 0 10px; text-align: right }\n",
       "    </style><table class=\"wandb\">\n",
       "<tr><td>train-auc</td><td>▁▂▂▃▃▃▃▃▄▄▄▄▅▅▅▅▅▆▆▆▆▆▆▆▇▇▇▇▇▇▇▇▇▇██████</td></tr><tr><td>test-auc</td><td>▁▂▃▃▄▄▄▄▅▅▅▅▅▆▆▆▆▆▆▇▇▇▇▇▇▇▇▇▇███████████</td></tr><tr><td>_step</td><td>▁▁▁▁▂▂▂▂▂▃▃▃▃▃▃▄▄▄▄▄▅▅▅▅▅▅▆▆▆▆▆▇▇▇▇▇▇███</td></tr><tr><td>_runtime</td><td>▁▁▁▁▂▂▂▂▂▃▃▃▃▃▃▄▄▄▄▄▅▅▅▅▅▅▆▆▆▆▆▆▇▇▇▇▇███</td></tr><tr><td>_timestamp</td><td>▁▁▁▁▂▂▂▂▂▃▃▃▃▃▃▄▄▄▄▄▅▅▅▅▅▅▆▆▆▆▆▆▇▇▇▇▇███</td></tr></table><br/>"
      ],
      "text/plain": [
       "<IPython.core.display.HTML object>"
      ]
     },
     "metadata": {},
     "output_type": "display_data"
    },
    {
     "data": {
      "text/html": [
       "Synced 5 W&B file(s), 0 media file(s), 0 artifact file(s) and 0 other file(s)"
      ],
      "text/plain": [
       "<IPython.core.display.HTML object>"
      ]
     },
     "metadata": {},
     "output_type": "display_data"
    },
    {
     "data": {
      "text/html": [
       "\n",
       "                    <br/>Synced <strong style=\"color:#cdcd00\">fast-sponge-27</strong>: <a href=\"https://wandb.ai/mariapaskevich/wids_2021/runs/1kfb1keh\" target=\"_blank\">https://wandb.ai/mariapaskevich/wids_2021/runs/1kfb1keh</a><br/>\n",
       "                "
      ],
      "text/plain": [
       "<IPython.core.display.HTML object>"
      ]
     },
     "metadata": {},
     "output_type": "display_data"
    },
    {
     "data": {
      "text/html": [
       "...Successfully finished last run (ID:1kfb1keh). Initializing new run:<br/><br/>"
      ],
      "text/plain": [
       "<IPython.core.display.HTML object>"
      ]
     },
     "metadata": {},
     "output_type": "display_data"
    },
    {
     "name": "stderr",
     "output_type": "stream",
     "text": [
      "\u001b[34m\u001b[1mwandb\u001b[0m: wandb version 0.10.14 is available!  To upgrade, please run:\n",
      "\u001b[34m\u001b[1mwandb\u001b[0m:  $ pip install wandb --upgrade\n"
     ]
    },
    {
     "data": {
      "text/html": [
       "\n",
       "                Tracking run with wandb version 0.10.13<br/>\n",
       "                Syncing run <strong style=\"color:#cdcd00\">skilled-plant-28</strong> to <a href=\"https://wandb.ai\" target=\"_blank\">Weights & Biases</a> <a href=\"https://docs.wandb.com/integrations/jupyter.html\" target=\"_blank\">(Documentation)</a>.<br/>\n",
       "                Project page: <a href=\"https://wandb.ai/mariapaskevich/wids_2021\" target=\"_blank\">https://wandb.ai/mariapaskevich/wids_2021</a><br/>\n",
       "                Run page: <a href=\"https://wandb.ai/mariapaskevich/wids_2021/runs/3hpvhupn\" target=\"_blank\">https://wandb.ai/mariapaskevich/wids_2021/runs/3hpvhupn</a><br/>\n",
       "                Run data is saved locally in <code>/home/jupyter/wids/wandb/run-20210117_004001-3hpvhupn</code><br/><br/>\n",
       "            "
      ],
      "text/plain": [
       "<IPython.core.display.HTML object>"
      ]
     },
     "metadata": {},
     "output_type": "display_data"
    },
    {
     "name": "stderr",
     "output_type": "stream",
     "text": [
      "/opt/conda/lib/python3.7/site-packages/xgboost/training.py:19: UserWarning: Old style callback is deprecated.  See: https://xgboost.readthedocs.io/en/latest/python/callbacks.html\n",
      "  warnings.warn(f'Old style callback is deprecated.  See: {link}', UserWarning)\n"
     ]
    },
    {
     "name": "stdout",
     "output_type": "stream",
     "text": [
      "[00:40:07] WARNING: ../src/learner.cc:541: \n",
      "Parameters: { n_estimators, num_leaves } might not be used.\n",
      "\n",
      "  This may not be accurate due to some parameters are only used in language bindings but\n",
      "  passed down to XGBoost core.  Or some parameters are not used but slip through this\n",
      "  verification. Please open an issue if you find above cases.\n",
      "\n",
      "\n",
      "[0]\ttrain-auc:0.81772\ttest-auc:0.80625\n",
      "[1]\ttrain-auc:0.81822\ttest-auc:0.80646\n",
      "[2]\ttrain-auc:0.82011\ttest-auc:0.80911\n",
      "[3]\ttrain-auc:0.82024\ttest-auc:0.80889\n",
      "[4]\ttrain-auc:0.82134\ttest-auc:0.80990\n",
      "[5]\ttrain-auc:0.82194\ttest-auc:0.81027\n",
      "[6]\ttrain-auc:0.82286\ttest-auc:0.81097\n",
      "[7]\ttrain-auc:0.82342\ttest-auc:0.81137\n",
      "[8]\ttrain-auc:0.82356\ttest-auc:0.81131\n",
      "[9]\ttrain-auc:0.82361\ttest-auc:0.81138\n",
      "[10]\ttrain-auc:0.82452\ttest-auc:0.81233\n",
      "[11]\ttrain-auc:0.82468\ttest-auc:0.81232\n",
      "[12]\ttrain-auc:0.82551\ttest-auc:0.81312\n",
      "[13]\ttrain-auc:0.82598\ttest-auc:0.81346\n",
      "[14]\ttrain-auc:0.82625\ttest-auc:0.81391\n",
      "[15]\ttrain-auc:0.82653\ttest-auc:0.81413\n",
      "[16]\ttrain-auc:0.82684\ttest-auc:0.81453\n",
      "[17]\ttrain-auc:0.82720\ttest-auc:0.81483\n",
      "[18]\ttrain-auc:0.82829\ttest-auc:0.81579\n",
      "[19]\ttrain-auc:0.82867\ttest-auc:0.81606\n",
      "[20]\ttrain-auc:0.82909\ttest-auc:0.81638\n",
      "[21]\ttrain-auc:0.83005\ttest-auc:0.81746\n",
      "[22]\ttrain-auc:0.83024\ttest-auc:0.81758\n",
      "[23]\ttrain-auc:0.83055\ttest-auc:0.81774\n",
      "[24]\ttrain-auc:0.83088\ttest-auc:0.81804\n",
      "[25]\ttrain-auc:0.83110\ttest-auc:0.81820\n",
      "[26]\ttrain-auc:0.83133\ttest-auc:0.81834\n",
      "[27]\ttrain-auc:0.83154\ttest-auc:0.81848\n",
      "[28]\ttrain-auc:0.83198\ttest-auc:0.81894\n",
      "[29]\ttrain-auc:0.83216\ttest-auc:0.81920\n",
      "[30]\ttrain-auc:0.83247\ttest-auc:0.81944\n",
      "[31]\ttrain-auc:0.83265\ttest-auc:0.81956\n",
      "[32]\ttrain-auc:0.83294\ttest-auc:0.81984\n",
      "[33]\ttrain-auc:0.83301\ttest-auc:0.81991\n",
      "[34]\ttrain-auc:0.83322\ttest-auc:0.82008\n",
      "[35]\ttrain-auc:0.83342\ttest-auc:0.82026\n",
      "[36]\ttrain-auc:0.83358\ttest-auc:0.82041\n",
      "[37]\ttrain-auc:0.83377\ttest-auc:0.82055\n",
      "[38]\ttrain-auc:0.83397\ttest-auc:0.82067\n",
      "[39]\ttrain-auc:0.83420\ttest-auc:0.82088\n",
      "[40]\ttrain-auc:0.83431\ttest-auc:0.82092\n",
      "[41]\ttrain-auc:0.83456\ttest-auc:0.82121\n",
      "[42]\ttrain-auc:0.83468\ttest-auc:0.82134\n",
      "[43]\ttrain-auc:0.83486\ttest-auc:0.82160\n",
      "[44]\ttrain-auc:0.83493\ttest-auc:0.82156\n",
      "[45]\ttrain-auc:0.83515\ttest-auc:0.82185\n",
      "[46]\ttrain-auc:0.83527\ttest-auc:0.82195\n",
      "[47]\ttrain-auc:0.83539\ttest-auc:0.82202\n",
      "[48]\ttrain-auc:0.83553\ttest-auc:0.82211\n",
      "[49]\ttrain-auc:0.83561\ttest-auc:0.82213\n",
      "[50]\ttrain-auc:0.83574\ttest-auc:0.82228\n",
      "[51]\ttrain-auc:0.83580\ttest-auc:0.82228\n",
      "[52]\ttrain-auc:0.83594\ttest-auc:0.82243\n",
      "[53]\ttrain-auc:0.83611\ttest-auc:0.82257\n",
      "[54]\ttrain-auc:0.83621\ttest-auc:0.82266\n",
      "[55]\ttrain-auc:0.83635\ttest-auc:0.82276\n",
      "[56]\ttrain-auc:0.83651\ttest-auc:0.82288\n",
      "[57]\ttrain-auc:0.83660\ttest-auc:0.82290\n",
      "[58]\ttrain-auc:0.83669\ttest-auc:0.82296\n",
      "[59]\ttrain-auc:0.83718\ttest-auc:0.82356\n",
      "[60]\ttrain-auc:0.83744\ttest-auc:0.82385\n",
      "[61]\ttrain-auc:0.83767\ttest-auc:0.82409\n",
      "[62]\ttrain-auc:0.83787\ttest-auc:0.82429\n",
      "[63]\ttrain-auc:0.83804\ttest-auc:0.82452\n",
      "[64]\ttrain-auc:0.83825\ttest-auc:0.82472\n",
      "[65]\ttrain-auc:0.83840\ttest-auc:0.82491\n",
      "[66]\ttrain-auc:0.83858\ttest-auc:0.82508\n",
      "[67]\ttrain-auc:0.83871\ttest-auc:0.82521\n",
      "[68]\ttrain-auc:0.83886\ttest-auc:0.82537\n",
      "[69]\ttrain-auc:0.83905\ttest-auc:0.82555\n",
      "[70]\ttrain-auc:0.83915\ttest-auc:0.82565\n",
      "[71]\ttrain-auc:0.83928\ttest-auc:0.82579\n",
      "[72]\ttrain-auc:0.83940\ttest-auc:0.82584\n",
      "[73]\ttrain-auc:0.83953\ttest-auc:0.82597\n",
      "[74]\ttrain-auc:0.83964\ttest-auc:0.82611\n",
      "[75]\ttrain-auc:0.83977\ttest-auc:0.82622\n",
      "[76]\ttrain-auc:0.83988\ttest-auc:0.82630\n",
      "[77]\ttrain-auc:0.83996\ttest-auc:0.82638\n",
      "[78]\ttrain-auc:0.84005\ttest-auc:0.82647\n",
      "[79]\ttrain-auc:0.84015\ttest-auc:0.82655\n",
      "[80]\ttrain-auc:0.84031\ttest-auc:0.82671\n",
      "[81]\ttrain-auc:0.84043\ttest-auc:0.82681\n",
      "[82]\ttrain-auc:0.84057\ttest-auc:0.82695\n",
      "[83]\ttrain-auc:0.84066\ttest-auc:0.82705\n",
      "[84]\ttrain-auc:0.84074\ttest-auc:0.82710\n",
      "[85]\ttrain-auc:0.84085\ttest-auc:0.82718\n",
      "[86]\ttrain-auc:0.84093\ttest-auc:0.82727\n",
      "[87]\ttrain-auc:0.84097\ttest-auc:0.82731\n",
      "[88]\ttrain-auc:0.84105\ttest-auc:0.82735\n",
      "[89]\ttrain-auc:0.84113\ttest-auc:0.82742\n",
      "[90]\ttrain-auc:0.84120\ttest-auc:0.82749\n",
      "[91]\ttrain-auc:0.84134\ttest-auc:0.82764\n",
      "[92]\ttrain-auc:0.84143\ttest-auc:0.82773\n",
      "[93]\ttrain-auc:0.84149\ttest-auc:0.82775\n",
      "[94]\ttrain-auc:0.84163\ttest-auc:0.82788\n",
      "[95]\ttrain-auc:0.84178\ttest-auc:0.82802\n",
      "[96]\ttrain-auc:0.84183\ttest-auc:0.82804\n",
      "[97]\ttrain-auc:0.84200\ttest-auc:0.82819\n",
      "[98]\ttrain-auc:0.84217\ttest-auc:0.82836\n",
      "[99]\ttrain-auc:0.84228\ttest-auc:0.82848\n",
      "[100]\ttrain-auc:0.84235\ttest-auc:0.82849\n",
      "[101]\ttrain-auc:0.84245\ttest-auc:0.82861\n",
      "[102]\ttrain-auc:0.84258\ttest-auc:0.82874\n",
      "[103]\ttrain-auc:0.84268\ttest-auc:0.82878\n",
      "[104]\ttrain-auc:0.84283\ttest-auc:0.82894\n",
      "[105]\ttrain-auc:0.84292\ttest-auc:0.82900\n",
      "[106]\ttrain-auc:0.84298\ttest-auc:0.82906\n",
      "[107]\ttrain-auc:0.84308\ttest-auc:0.82915\n",
      "[108]\ttrain-auc:0.84319\ttest-auc:0.82923\n",
      "[109]\ttrain-auc:0.84325\ttest-auc:0.82928\n",
      "[110]\ttrain-auc:0.84339\ttest-auc:0.82942\n",
      "[111]\ttrain-auc:0.84347\ttest-auc:0.82949\n",
      "[112]\ttrain-auc:0.84355\ttest-auc:0.82953\n",
      "[113]\ttrain-auc:0.84365\ttest-auc:0.82964\n",
      "[114]\ttrain-auc:0.84381\ttest-auc:0.82977\n",
      "[115]\ttrain-auc:0.84388\ttest-auc:0.82980\n",
      "[116]\ttrain-auc:0.84399\ttest-auc:0.82987\n",
      "[117]\ttrain-auc:0.84408\ttest-auc:0.82992\n",
      "[118]\ttrain-auc:0.84418\ttest-auc:0.82999\n",
      "[119]\ttrain-auc:0.84426\ttest-auc:0.83007\n",
      "[120]\ttrain-auc:0.84433\ttest-auc:0.83008\n",
      "[121]\ttrain-auc:0.84444\ttest-auc:0.83017\n",
      "[122]\ttrain-auc:0.84457\ttest-auc:0.83027\n",
      "[123]\ttrain-auc:0.84468\ttest-auc:0.83036\n",
      "[124]\ttrain-auc:0.84476\ttest-auc:0.83040\n",
      "[125]\ttrain-auc:0.84488\ttest-auc:0.83051\n",
      "[126]\ttrain-auc:0.84495\ttest-auc:0.83057\n",
      "[127]\ttrain-auc:0.84506\ttest-auc:0.83066\n",
      "[128]\ttrain-auc:0.84516\ttest-auc:0.83072\n",
      "[129]\ttrain-auc:0.84530\ttest-auc:0.83081\n",
      "[130]\ttrain-auc:0.84541\ttest-auc:0.83089\n",
      "[131]\ttrain-auc:0.84548\ttest-auc:0.83095\n",
      "[132]\ttrain-auc:0.84560\ttest-auc:0.83105\n",
      "[133]\ttrain-auc:0.84568\ttest-auc:0.83111\n",
      "[134]\ttrain-auc:0.84579\ttest-auc:0.83118\n",
      "[135]\ttrain-auc:0.84588\ttest-auc:0.83124\n",
      "[136]\ttrain-auc:0.84597\ttest-auc:0.83132\n",
      "[137]\ttrain-auc:0.84607\ttest-auc:0.83140\n",
      "[138]\ttrain-auc:0.84614\ttest-auc:0.83147\n",
      "[139]\ttrain-auc:0.84622\ttest-auc:0.83153\n",
      "[140]\ttrain-auc:0.84632\ttest-auc:0.83161\n",
      "[141]\ttrain-auc:0.84639\ttest-auc:0.83169\n",
      "[142]\ttrain-auc:0.84647\ttest-auc:0.83173\n",
      "[143]\ttrain-auc:0.84655\ttest-auc:0.83179\n",
      "[144]\ttrain-auc:0.84665\ttest-auc:0.83186\n",
      "[145]\ttrain-auc:0.84675\ttest-auc:0.83195\n",
      "[146]\ttrain-auc:0.84685\ttest-auc:0.83202\n",
      "[147]\ttrain-auc:0.84695\ttest-auc:0.83210\n",
      "[148]\ttrain-auc:0.84702\ttest-auc:0.83216\n",
      "[149]\ttrain-auc:0.84710\ttest-auc:0.83220\n",
      "[150]\ttrain-auc:0.84717\ttest-auc:0.83227\n",
      "[151]\ttrain-auc:0.84726\ttest-auc:0.83233\n",
      "[152]\ttrain-auc:0.84735\ttest-auc:0.83242\n",
      "[153]\ttrain-auc:0.84747\ttest-auc:0.83251\n",
      "[154]\ttrain-auc:0.84758\ttest-auc:0.83261\n",
      "[155]\ttrain-auc:0.84768\ttest-auc:0.83273\n",
      "[156]\ttrain-auc:0.84777\ttest-auc:0.83278\n",
      "[157]\ttrain-auc:0.84788\ttest-auc:0.83285\n",
      "[158]\ttrain-auc:0.84798\ttest-auc:0.83292\n",
      "[159]\ttrain-auc:0.84808\ttest-auc:0.83301\n",
      "[160]\ttrain-auc:0.84815\ttest-auc:0.83304\n",
      "[161]\ttrain-auc:0.84823\ttest-auc:0.83308\n",
      "[162]\ttrain-auc:0.84832\ttest-auc:0.83314\n",
      "[163]\ttrain-auc:0.84840\ttest-auc:0.83319\n",
      "[164]\ttrain-auc:0.84849\ttest-auc:0.83324\n",
      "[165]\ttrain-auc:0.84859\ttest-auc:0.83331\n",
      "[166]\ttrain-auc:0.84867\ttest-auc:0.83336\n",
      "[167]\ttrain-auc:0.84877\ttest-auc:0.83341\n",
      "[168]\ttrain-auc:0.84887\ttest-auc:0.83347\n",
      "[169]\ttrain-auc:0.84896\ttest-auc:0.83351\n",
      "[170]\ttrain-auc:0.84905\ttest-auc:0.83356\n",
      "[171]\ttrain-auc:0.84915\ttest-auc:0.83362\n",
      "[172]\ttrain-auc:0.84924\ttest-auc:0.83367\n",
      "[173]\ttrain-auc:0.84938\ttest-auc:0.83379\n",
      "[174]\ttrain-auc:0.84947\ttest-auc:0.83386\n",
      "[175]\ttrain-auc:0.84957\ttest-auc:0.83391\n",
      "[176]\ttrain-auc:0.84963\ttest-auc:0.83394\n",
      "[177]\ttrain-auc:0.84973\ttest-auc:0.83402\n",
      "[178]\ttrain-auc:0.84984\ttest-auc:0.83411\n",
      "[179]\ttrain-auc:0.84995\ttest-auc:0.83419\n",
      "[180]\ttrain-auc:0.85006\ttest-auc:0.83427\n",
      "[181]\ttrain-auc:0.85015\ttest-auc:0.83433\n",
      "[182]\ttrain-auc:0.85024\ttest-auc:0.83440\n",
      "[183]\ttrain-auc:0.85033\ttest-auc:0.83446\n",
      "[184]\ttrain-auc:0.85044\ttest-auc:0.83452\n",
      "[185]\ttrain-auc:0.85054\ttest-auc:0.83461\n",
      "[186]\ttrain-auc:0.85062\ttest-auc:0.83466\n",
      "[187]\ttrain-auc:0.85072\ttest-auc:0.83475\n",
      "[188]\ttrain-auc:0.85084\ttest-auc:0.83484\n",
      "[189]\ttrain-auc:0.85095\ttest-auc:0.83492\n",
      "[190]\ttrain-auc:0.85104\ttest-auc:0.83499\n",
      "[191]\ttrain-auc:0.85110\ttest-auc:0.83502\n",
      "[192]\ttrain-auc:0.85119\ttest-auc:0.83508\n",
      "[193]\ttrain-auc:0.85129\ttest-auc:0.83515\n",
      "[194]\ttrain-auc:0.85138\ttest-auc:0.83520\n",
      "[195]\ttrain-auc:0.85150\ttest-auc:0.83531\n",
      "[196]\ttrain-auc:0.85159\ttest-auc:0.83539\n",
      "[197]\ttrain-auc:0.85169\ttest-auc:0.83545\n",
      "[198]\ttrain-auc:0.85177\ttest-auc:0.83551\n",
      "[199]\ttrain-auc:0.85187\ttest-auc:0.83556\n"
     ]
    }
   ],
   "source": [
    "wandb.init(project=\"wids_2021\", sync_tensorboard=True)\n",
    "config = wandb.config\n",
    "\n",
    "param = {'learning_rate':0.01,\n",
    "          'num_leaves':30,\n",
    "          'n_estimators':200,\n",
    "          'eval_metric':'auc',\n",
    "          'objective': 'reg:logistic'}\n",
    "\n",
    "wandb.config.update(params)\n",
    "\n",
    "watchlist = [(xg_train, 'train'), (xg_test, 'test')]\n",
    "num_round = 200\n",
    "bst = xgb.train(param, xg_train, num_round, watchlist, callbacks=[wandb.xgboost.wandb_callback()])\n",
    "\n",
    "# get prediction\n",
    "pred = bst.predict(xg_test)"
   ]
  },
  {
   "cell_type": "code",
   "execution_count": 44,
   "metadata": {},
   "outputs": [
    {
     "data": {
      "text/plain": [
       "0.8486230924711842"
      ]
     },
     "execution_count": 44,
     "metadata": {},
     "output_type": "execute_result"
    }
   ],
   "source": [
    "#bst.fit(df_train.values, Y.values)\n",
    "\n",
    "metrics.roc_auc_score(Y.values, bst.predict(xgb.DMatrix(df_train.values)))"
   ]
  },
  {
   "cell_type": "code",
   "execution_count": null,
   "metadata": {},
   "outputs": [],
   "source": [
    "#Basic model final auc: 0.7917882139874278\n",
    "#0.8263166791535951\n",
    "#0.8928322559066909\n"
   ]
  },
  {
   "cell_type": "code",
   "execution_count": 45,
   "metadata": {},
   "outputs": [],
   "source": [
    "pred_proba = bst.predict(xgb.DMatrix(df_pred.values))\n",
    "\n",
    "#pred_proba = xgbm.predict_proba(df_pred.values)[:,1]]"
   ]
  },
  {
   "cell_type": "code",
   "execution_count": 46,
   "metadata": {},
   "outputs": [],
   "source": [
    "submittion = pd.DataFrame([unlabeled.encounter_id,pred_proba]).T\n",
    "submittion.encounter_id = submittion.encounter_id.astype('int32')\n",
    "submittion.set_index('encounter_id',inplace=True)\n",
    "submittion.columns = ['diabetes_mellitus']\n",
    "submittion.fillna(0.5).to_csv('SolutionWiDS2021_XGB_200_epochs_01_lr.csv')"
   ]
  },
  {
   "cell_type": "code",
   "execution_count": null,
   "metadata": {},
   "outputs": [],
   "source": []
  }
 ],
 "metadata": {
  "environment": {
   "name": "tf2-gpu.2-3.m61",
   "type": "gcloud",
   "uri": "gcr.io/deeplearning-platform-release/tf2-gpu.2-3:m61"
  },
  "kernelspec": {
   "display_name": "Python 3",
   "language": "python",
   "name": "python3"
  },
  "language_info": {
   "codemirror_mode": {
    "name": "ipython",
    "version": 3
   },
   "file_extension": ".py",
   "mimetype": "text/x-python",
   "name": "python",
   "nbconvert_exporter": "python",
   "pygments_lexer": "ipython3",
   "version": "3.7.9"
  }
 },
 "nbformat": 4,
 "nbformat_minor": 4
}
