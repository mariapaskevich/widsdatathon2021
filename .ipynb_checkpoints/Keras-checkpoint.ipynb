{
 "cells": [
  {
   "cell_type": "code",
   "execution_count": 76,
   "metadata": {},
   "outputs": [],
   "source": [
    "import pandas as pd\n",
    "from sklearn.model_selection import train_test_split\n",
    "from sklearn.preprocessing import LabelEncoder\n",
    "from sklearn import metrics\n",
    "import time\n",
    "import tensorflow as tf\n",
    "from tensorflow import keras\n",
    "from sklearn import preprocessing"
   ]
  },
  {
   "cell_type": "code",
   "execution_count": 2,
   "metadata": {},
   "outputs": [],
   "source": [
    "data_dictionary = pd.read_csv(\"DataDictionaryWiDS2021.csv\")\n",
    "unlabeled = pd.read_csv(\"UnlabeledWiDS2021.csv\")\n",
    "training = pd.read_csv(\"TrainingWiDS2021.csv\")"
   ]
  },
  {
   "cell_type": "code",
   "execution_count": 3,
   "metadata": {},
   "outputs": [],
   "source": [
    "column_datatype_mapping = dict(zip(data_dictionary['Variable Name'], data_dictionary['Data Type']))\n",
    "\n",
    "del training['Unnamed: 0']\n",
    "del unlabeled['Unnamed: 0']"
   ]
  },
  {
   "cell_type": "code",
   "execution_count": 79,
   "metadata": {},
   "outputs": [
    {
     "data": {
      "text/plain": [
       "(140391, 177)"
      ]
     },
     "execution_count": 79,
     "metadata": {},
     "output_type": "execute_result"
    }
   ],
   "source": [
    "all_data = training.append(unlabeled).drop(['encounter_id', \n",
    "                                            'hospital_id', \n",
    "                                            'diabetes_mellitus'], axis=1)\n",
    "\n",
    "all_data.shape"
   ]
  },
  {
   "cell_type": "code",
   "execution_count": 81,
   "metadata": {},
   "outputs": [],
   "source": [
    "cat_cols = ['ethnicity', 'gender', 'hospital_admit_source',\n",
    "           'icu_admit_source', 'icu_stay_type', 'icu_type',\n",
    "           'apache_2_diagnosis', 'apache_3j_diagnosis','icu_id']\n",
    "\n",
    "\n",
    "binary_cols = data_dictionary.loc[data_dictionary['Data Type'] == 'binary','Variable Name'].values\n",
    "num_cols = data_dictionary.loc[data_dictionary['Data Type'] == 'numeric','Variable Name'].values \n",
    "\n",
    "for col in all_data.columns:\n",
    "    if col in cat_cols:\n",
    "        #print(col)\n",
    "        all_data[col] = LabelEncoder().fit_transform(all_data[col].astype('str'))\n",
    "        all_data[col]= all_data[col].astype('category')        \n"
   ]
  },
  {
   "cell_type": "code",
   "execution_count": 83,
   "metadata": {},
   "outputs": [],
   "source": [
    "min_max_scaler = preprocessing.MinMaxScaler()\n",
    "x_scaled = min_max_scaler.fit_transform(all_data.values)\n",
    "all_data = pd.DataFrame(x_scaled)\n",
    "all_data = all_data.fillna(0)"
   ]
  },
  {
   "cell_type": "code",
   "execution_count": 84,
   "metadata": {},
   "outputs": [],
   "source": [
    "df_train = all_data[:len(training)]\n",
    "df_pred = all_data[len(training):].reset_index(drop=True)\n",
    "Y = training['diabetes_mellitus']\n",
    "\n",
    "X_train, X_val, y_train, y_val = train_test_split(df_train, Y, test_size=0.20, random_state=42,shuffle=True )"
   ]
  },
  {
   "cell_type": "code",
   "execution_count": 85,
   "metadata": {},
   "outputs": [
    {
     "data": {
      "text/plain": [
       "(104125, 177)"
      ]
     },
     "execution_count": 85,
     "metadata": {},
     "output_type": "execute_result"
    }
   ],
   "source": [
    "X_train.shape"
   ]
  },
  {
   "cell_type": "code",
   "execution_count": 100,
   "metadata": {},
   "outputs": [],
   "source": [
    "model = keras.Sequential([\n",
    "    keras.layers.Flatten(input_shape=(177,)),\n",
    "    keras.layers.Dense(256, activation=tf.nn.relu),\n",
    "    keras.layers.Dense(256, activation=tf.nn.relu),\n",
    "    keras.layers.Dense(256, activation=tf.nn.relu),\n",
    "    keras.layers.Dense(256, activation=tf.nn.relu),\n",
    "    keras.layers.Dense(1, activation=tf.nn.sigmoid),\n",
    "])\n",
    "\n",
    "opt = keras.optimizers.Adam(learning_rate=0.005)\n",
    "\n",
    "model.compile(optimizer=opt,\n",
    "              loss='binary_crossentropy',\n",
    "              metrics=['accuracy'])"
   ]
  },
  {
   "cell_type": "code",
   "execution_count": 101,
   "metadata": {},
   "outputs": [
    {
     "name": "stdout",
     "output_type": "stream",
     "text": [
      "Epoch 1/50\n",
      "348/348 [==============================] - 6s 17ms/step - loss: 0.4256 - accuracy: 0.8109\n",
      "Epoch 2/50\n",
      "348/348 [==============================] - 5s 16ms/step - loss: 0.3986 - accuracy: 0.8199\n",
      "Epoch 3/50\n",
      "348/348 [==============================] - 5s 13ms/step - loss: 0.3946 - accuracy: 0.8217\n",
      "Epoch 4/50\n",
      "348/348 [==============================] - 7s 20ms/step - loss: 0.3904 - accuracy: 0.8226\n",
      "Epoch 5/50\n",
      "348/348 [==============================] - 6s 16ms/step - loss: 0.3861 - accuracy: 0.8241\n",
      "Epoch 6/50\n",
      "348/348 [==============================] - 6s 17ms/step - loss: 0.3857 - accuracy: 0.8251\n",
      "Epoch 7/50\n",
      "348/348 [==============================] - 5s 15ms/step - loss: 0.3831 - accuracy: 0.8252\n",
      "Epoch 8/50\n",
      "348/348 [==============================] - 5s 14ms/step - loss: 0.3825 - accuracy: 0.8253\n",
      "Epoch 9/50\n",
      "348/348 [==============================] - 5s 14ms/step - loss: 0.3805 - accuracy: 0.8269\n",
      "Epoch 10/50\n",
      "348/348 [==============================] - 5s 14ms/step - loss: 0.3791 - accuracy: 0.8270\n",
      "Epoch 11/50\n",
      "348/348 [==============================] - 5s 15ms/step - loss: 0.3783 - accuracy: 0.8281\n",
      "Epoch 12/50\n",
      "348/348 [==============================] - 5s 16ms/step - loss: 0.3771 - accuracy: 0.8288\n",
      "Epoch 13/50\n",
      "348/348 [==============================] - 5s 15ms/step - loss: 0.3759 - accuracy: 0.8297\n",
      "Epoch 14/50\n",
      "348/348 [==============================] - 5s 15ms/step - loss: 0.3751 - accuracy: 0.8302\n",
      "Epoch 15/50\n",
      "348/348 [==============================] - 4s 13ms/step - loss: 0.3742 - accuracy: 0.8297\n",
      "Epoch 16/50\n",
      "348/348 [==============================] - 5s 16ms/step - loss: 0.3732 - accuracy: 0.8310\n",
      "Epoch 17/50\n",
      "348/348 [==============================] - 5s 15ms/step - loss: 0.3710 - accuracy: 0.8313\n",
      "Epoch 18/50\n",
      "348/348 [==============================] - 4s 11ms/step - loss: 0.3703 - accuracy: 0.8329\n",
      "Epoch 19/50\n",
      "348/348 [==============================] - 6s 18ms/step - loss: 0.3695 - accuracy: 0.8323\n",
      "Epoch 20/50\n",
      "348/348 [==============================] - 6s 19ms/step - loss: 0.3693 - accuracy: 0.8325\n",
      "Epoch 21/50\n",
      "348/348 [==============================] - 6s 17ms/step - loss: 0.3679 - accuracy: 0.8332\n",
      "Epoch 22/50\n",
      "348/348 [==============================] - 5s 13ms/step - loss: 0.3669 - accuracy: 0.8337\n",
      "Epoch 23/50\n",
      "348/348 [==============================] - 5s 15ms/step - loss: 0.3661 - accuracy: 0.8337\n",
      "Epoch 24/50\n",
      "348/348 [==============================] - 5s 14ms/step - loss: 0.3664 - accuracy: 0.8346\n",
      "Epoch 25/50\n",
      "348/348 [==============================] - 4s 13ms/step - loss: 0.3635 - accuracy: 0.8349\n",
      "Epoch 26/50\n",
      "348/348 [==============================] - 5s 15ms/step - loss: 0.3634 - accuracy: 0.8345\n",
      "Epoch 27/50\n",
      "348/348 [==============================] - 5s 14ms/step - loss: 0.3623 - accuracy: 0.8358\n",
      "Epoch 28/50\n",
      "348/348 [==============================] - 6s 18ms/step - loss: 0.3605 - accuracy: 0.8359\n",
      "Epoch 29/50\n",
      "348/348 [==============================] - 6s 17ms/step - loss: 0.3605 - accuracy: 0.8360\n",
      "Epoch 30/50\n",
      "348/348 [==============================] - 5s 15ms/step - loss: 0.3590 - accuracy: 0.8363\n",
      "Epoch 31/50\n",
      "348/348 [==============================] - 6s 16ms/step - loss: 0.3574 - accuracy: 0.8378\n",
      "Epoch 32/50\n",
      "348/348 [==============================] - 6s 16ms/step - loss: 0.3571 - accuracy: 0.8380\n",
      "Epoch 33/50\n",
      "348/348 [==============================] - 5s 15ms/step - loss: 0.3554 - accuracy: 0.8393\n",
      "Epoch 34/50\n",
      "348/348 [==============================] - 4s 12ms/step - loss: 0.3547 - accuracy: 0.8395\n",
      "Epoch 35/50\n",
      "348/348 [==============================] - 5s 13ms/step - loss: 0.3545 - accuracy: 0.8383\n",
      "Epoch 36/50\n",
      "348/348 [==============================] - 5s 14ms/step - loss: 0.3522 - accuracy: 0.8407\n",
      "Epoch 37/50\n",
      "348/348 [==============================] - 5s 15ms/step - loss: 0.3527 - accuracy: 0.8399\n",
      "Epoch 38/50\n",
      "348/348 [==============================] - 5s 13ms/step - loss: 0.3511 - accuracy: 0.8405\n",
      "Epoch 39/50\n",
      "348/348 [==============================] - 4s 12ms/step - loss: 0.3514 - accuracy: 0.8404\n",
      "Epoch 40/50\n",
      "348/348 [==============================] - 5s 14ms/step - loss: 0.3495 - accuracy: 0.8420\n",
      "Epoch 41/50\n",
      "348/348 [==============================] - 5s 16ms/step - loss: 0.3473 - accuracy: 0.8422\n",
      "Epoch 42/50\n",
      "348/348 [==============================] - 6s 16ms/step - loss: 0.3465 - accuracy: 0.8427\n",
      "Epoch 43/50\n",
      "348/348 [==============================] - 5s 14ms/step - loss: 0.3463 - accuracy: 0.8420\n",
      "Epoch 44/50\n",
      "348/348 [==============================] - 4s 12ms/step - loss: 0.3456 - accuracy: 0.8437\n",
      "Epoch 45/50\n",
      "348/348 [==============================] - 4s 11ms/step - loss: 0.3434 - accuracy: 0.8439\n",
      "Epoch 46/50\n",
      "348/348 [==============================] - 5s 14ms/step - loss: 0.3429 - accuracy: 0.8432\n",
      "Epoch 47/50\n",
      "348/348 [==============================] - 4s 13ms/step - loss: 0.3408 - accuracy: 0.8443\n",
      "Epoch 48/50\n",
      "348/348 [==============================] - 4s 12ms/step - loss: 0.3399 - accuracy: 0.8448\n",
      "Epoch 49/50\n",
      "348/348 [==============================] - 5s 15ms/step - loss: 0.3390 - accuracy: 0.8454\n",
      "Epoch 50/50\n",
      "348/348 [==============================] - 5s 14ms/step - loss: 0.3375 - accuracy: 0.8457\n"
     ]
    },
    {
     "data": {
      "text/plain": [
       "<tensorflow.python.keras.callbacks.History at 0x7f4d46c547d0>"
      ]
     },
     "execution_count": 101,
     "metadata": {},
     "output_type": "execute_result"
    }
   ],
   "source": [
    "model.fit(X_train, y_train, epochs=50, batch_size=300)"
   ]
  },
  {
   "cell_type": "code",
   "execution_count": 102,
   "metadata": {},
   "outputs": [
    {
     "data": {
      "text/plain": [
       "0.8259345547894588"
      ]
     },
     "execution_count": 102,
     "metadata": {},
     "output_type": "execute_result"
    }
   ],
   "source": [
    "metrics.roc_auc_score(y_val, model.predict(X_val))"
   ]
  },
  {
   "cell_type": "code",
   "execution_count": null,
   "metadata": {},
   "outputs": [],
   "source": []
  }
 ],
 "metadata": {
  "environment": {
   "name": "tf2-gpu.2-3.m61",
   "type": "gcloud",
   "uri": "gcr.io/deeplearning-platform-release/tf2-gpu.2-3:m61"
  },
  "kernelspec": {
   "display_name": "Python 3",
   "language": "python",
   "name": "python3"
  },
  "language_info": {
   "codemirror_mode": {
    "name": "ipython",
    "version": 3
   },
   "file_extension": ".py",
   "mimetype": "text/x-python",
   "name": "python",
   "nbconvert_exporter": "python",
   "pygments_lexer": "ipython3",
   "version": "3.7.9"
  }
 },
 "nbformat": 4,
 "nbformat_minor": 4
}
